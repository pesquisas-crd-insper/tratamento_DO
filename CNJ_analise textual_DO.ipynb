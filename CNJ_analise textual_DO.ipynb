{
  "nbformat": 4,
  "nbformat_minor": 0,
  "metadata": {
    "colab": {
      "provenance": []
    },
    "kernelspec": {
      "name": "python3",
      "display_name": "Python 3"
    },
    "language_info": {
      "name": "python"
    }
  },
  "cells": [
    {
      "cell_type": "code",
      "source": [
        "# pacotes básicos\n",
        "\n",
        "import pandas as pd\n",
        "import re, os\n",
        "import numpy as np\n",
        "from google.colab import drive\n",
        "from google.colab import files\n",
        "import pandas as pd\n",
        "import re\n",
        "import numpy as np\n",
        "import nltk\n",
        "from nltk.corpus import stopwords\n",
        "import sys\n",
        "!pip install jellyfish\n",
        "import jellyfish\n",
        "from sklearn.pipeline import make_pipeline\n",
        "from sklearn.preprocessing import MaxAbsScaler\n",
        "from sklearn.feature_extraction.text import CountVectorizer, TfidfVectorizer\n",
        "from sklearn.metrics import silhouette_score\n",
        "from sklearn.cluster import KMeans, DBSCAN, SpectralClustering\n",
        "import pandas as pd\n",
        "import numpy as np\n",
        "import matplotlib.pyplot as plt\n",
        "from matplotlib import pylab\n",
        "from sklearn.cluster import KMeans\n",
        "from sklearn.decomposition import PCA\n",
        "from sklearn.model_selection import train_test_split\n",
        "from scipy.spatial.distance import cdist, pdist\n",
        "from sklearn.metrics import silhouette_score\n",
        "from PIL import Image\n",
        "from wordcloud import WordCloud, ImageColorGenerator\n",
        "import time\n",
        "nltk.download('stopwords')\n",
        "nltk.download('punkt')\n",
        "drive.mount('/content/drive')"
      ],
      "metadata": {
        "colab": {
          "base_uri": "https://localhost:8080/"
        },
        "id": "mROFOk9oIwmr",
        "outputId": "67cbe046-2487-46d5-f8de-ad469630dc5d"
      },
      "execution_count": null,
      "outputs": [
        {
          "output_type": "stream",
          "name": "stdout",
          "text": [
            "Looking in indexes: https://pypi.org/simple, https://us-python.pkg.dev/colab-wheels/public/simple/\n",
            "Collecting jellyfish\n",
            "  Downloading jellyfish-0.9.0.tar.gz (132 kB)\n",
            "\u001b[K     |████████████████████████████████| 132 kB 8.4 MB/s \n",
            "\u001b[?25hBuilding wheels for collected packages: jellyfish\n",
            "  Building wheel for jellyfish (setup.py) ... \u001b[?25l\u001b[?25hdone\n",
            "  Created wheel for jellyfish: filename=jellyfish-0.9.0-cp37-cp37m-linux_x86_64.whl size=73982 sha256=b5b65e8a29f625a0f687598e1d7ce3d709ba40055f805d307699add8619d5ca1\n",
            "  Stored in directory: /root/.cache/pip/wheels/fe/99/4e/646ce766df0d070b0ef04db27aa11543e2767fda3075aec31b\n",
            "Successfully built jellyfish\n",
            "Installing collected packages: jellyfish\n",
            "Successfully installed jellyfish-0.9.0\n"
          ]
        },
        {
          "output_type": "stream",
          "name": "stderr",
          "text": [
            "[nltk_data] Downloading package stopwords to /root/nltk_data...\n",
            "[nltk_data]   Unzipping corpora/stopwords.zip.\n",
            "[nltk_data] Downloading package punkt to /root/nltk_data...\n",
            "[nltk_data]   Unzipping tokenizers/punkt.zip.\n"
          ]
        },
        {
          "output_type": "stream",
          "name": "stdout",
          "text": [
            "Mounted at /content/drive\n"
          ]
        }
      ]
    },
    {
      "cell_type": "code",
      "execution_count": null,
      "metadata": {
        "id": "WL1NdDZGIZyd"
      },
      "outputs": [],
      "source": [
        "planilha = pd.read_excel(\"/content/drive/My Drive/analise_textual/planilha_final.xlsx\")"
      ]
    },
    {
      "cell_type": "markdown",
      "source": [
        "1 -Fazer a limpeza para trocar termos muito parecidos por termos únicos"
      ],
      "metadata": {
        "id": "qk4QJZ8ltEpc"
      }
    },
    {
      "cell_type": "code",
      "source": [
        "\n",
        "def limpar_semelhantes(variavel):\n",
        "  pl_m = variavel\n",
        "  rgx = re.compile(\"\\[|\\]|'\")\n",
        "\n",
        "  termos = []\n",
        "  for item in pl_m:\n",
        "    # print(item)\n",
        "    # z= input(\"\")\n",
        "    item = re.sub(rgx,\"\", item)\n",
        "    # print(item)\n",
        "    # print(len(item))\n",
        "    # z= input(\"\")\n",
        "    if len(item) > 0:\n",
        "      item = item.split(\",\")\n",
        "      # print(item)\n",
        "      # z= input(\"\")\n",
        "      for it in item:\n",
        "        if it.strip() not in termos:\n",
        "          termos.append(it.strip())\n",
        "\n",
        "  # print(termos)\n",
        "  # print(len(termos))\n",
        "  # # z = input(\"\")\n",
        "\n",
        "\n",
        "  dict_tm_pr =[]\n",
        "  for r in range(len(termos)):\n",
        "    c = \"sim\"\n",
        "    if len(dict_tm_pr) == 0:\n",
        "      dict_tm_pr.append(termos[r])\n",
        "    else:\n",
        "      for n in range(len(dict_tm_pr)):\n",
        "        vlr = jellyfish.levenshtein_distance(termos[r].strip(), dict_tm_pr[n].strip())\n",
        "        if 0 < vlr <= 2:\n",
        "          # print(dict_tm_pr[n],termos[r])\n",
        "          c = \"não\"\n",
        "          break\n",
        "          # z = input(\"\")\n",
        "      if c == \"sim\":\n",
        "        dict_tm_pr.append(termos[r].strip())\n",
        "\n",
        "\n",
        "  # print(len(dict_tm_pr))\n",
        "  # print(dict_tm_pr)\n",
        "  # z = input(\"\")\n",
        "\n",
        "\n",
        "  termos_lp = []\n",
        "  for ite in pl_m:\n",
        "    ite = re.sub(rgx,\"\", ite)\n",
        "    # print(ite)\n",
        "    if len(ite) == 0:\n",
        "      list_tm_lp =[]\n",
        "      termos_lp.append(list_tm_lp)\n",
        "    else:\n",
        "      ite = ite.split(\",\")\n",
        "      list_tm_lp =[]\n",
        "      for t in ite:\n",
        "        for y in dict_tm_pr:\n",
        "          v = jellyfish.levenshtein_distance(t.strip(), y.strip())\n",
        "          if v == 0:\n",
        "            list_tm_lp.append(t.strip())\n",
        "          elif 0 < v <= 2:\n",
        "            # print(\"trocou o\" ,t , \"pelo\",y)\n",
        "            if y.strip() not in list_tm_lp and \"imovel\" not in t:  \n",
        "              list_tm_lp.append(y.strip())\n",
        "      # print(list_tm_lp)\n",
        "      termos_lp.append(list_tm_lp)\n",
        "      # print(termos_lp)\n",
        "      # z = input(\"\")\n",
        "  return termos_lp\n",
        "  \n",
        "\n",
        "  # print(planilha[\"medidas_judiciais\"])\n"
      ],
      "metadata": {
        "id": "WPdSCf3sKSqW"
      },
      "execution_count": null,
      "outputs": []
    },
    {
      "cell_type": "code",
      "source": [
        "lista_var = [planilha[\"medidas_judiciais\"],planilha[\"tipo_acao\"],planilha[\"assuntos_2\"],planilha[\"tipo_acao\"]]\n",
        "\n",
        "termos_fn = []\n",
        "for var in lista_var:\n",
        "  termos_lp = limpar_semelhantes(var)\n",
        "  termos_fn.append(termos_lp)\n",
        "\n",
        "\n",
        "planilha[\"medidas_judiciais\"] = termos_fn[0]\n",
        "planilha[\"tipo_acao\"] =  termos_fn[1]\n",
        "planilha[\"assuntos_2\"] = termos_fn[2]\n",
        "planilha[\"tipo_acao\"] = termos_fn[3]\n"
      ],
      "metadata": {
        "id": "C2KHDCKFt4cu"
      },
      "execution_count": null,
      "outputs": []
    },
    {
      "cell_type": "markdown",
      "source": [
        "2 - Mapeando a frequencias dos órgãos de cooperação"
      ],
      "metadata": {
        "id": "tPX-03k7tKp7"
      }
    },
    {
      "cell_type": "code",
      "source": [
        "rgx_org =  re.compile(\"jucesp|receita federal|coaf|banco central|bacen|drci|policia civil|tcu|tribunal de contas|policia federal|conselho de controle de atividades financeiras\")\n",
        "\n",
        "orgaos = []\n",
        "qtde_org_c = []\n",
        "for f in range(len(planilha)):\n",
        "  org_prov = []\n",
        "  # print(\"estamos no\", f)\n",
        "  tex = planilha.iloc[f,1]\n",
        "  tex = re.sub(\"[^\\w]|\\d|,|_\",\" \",tex)\n",
        "  text = [tex]\n",
        "  bag_of_words_transformer = CountVectorizer(ngram_range=(1,5), strip_accents= \"unicode\")\n",
        "  mx = bag_of_words_transformer.fit_transform(text).todense()\n",
        "  terms = bag_of_words_transformer.get_feature_names_out()\n",
        "  for tm in terms:\n",
        "    if re.search(rgx_org,tm):\n",
        "      tm_rgx = re.search(rgx_org,tm).group()\n",
        "      if \"tcu\" in tm_rgx:\n",
        "        tm_rgx = tm_rgx.replace(\"tcu\",\"tribunal de contas\")\n",
        "        if tm_rgx not in org_prov:\n",
        "          org_prov.append(tm_rgx)\n",
        "      elif \"bacen\"in tm_rgx:\n",
        "        tm_rgx = tm_rgx.replace(\"bacen\",\"banco central\")\n",
        "        if tm_rgx not in org_prov:\n",
        "          org_prov.append(tm_rgx)\n",
        "      else:\n",
        "        if tm_rgx not in org_prov:\n",
        "          org_prov.append(tm_rgx)\n",
        "  qtde_org_c.append(len(org_prov))\n",
        "  orgaos.append(org_prov)\n",
        "\n",
        "planilha[\"orgaos\"] = orgaos\n",
        "planilha[\"qtdade_orgaos\"] = qtde_org_c\n",
        "\n",
        "# print(planilha[\"orgaos\"])"
      ],
      "metadata": {
        "id": "WQc_GDsK2bBJ"
      },
      "execution_count": null,
      "outputs": []
    },
    {
      "cell_type": "markdown",
      "source": [
        "funções pra gerar os nós e as arestas"
      ],
      "metadata": {
        "id": "onzeREJW4-yz"
      }
    },
    {
      "cell_type": "code",
      "source": [
        "def gera_nos(variavel):\n",
        "  rgx = re.compile(\"\\[|\\]|'\")\n",
        "  lista_unicos= []\n",
        "  lista_termos = variavel.to_list()\n",
        "  for item in lista_termos:\n",
        "    item = re.sub(rgx,\"\", str(item))\n",
        "    itens = item.split(\",\")\n",
        "    for it in itens:\n",
        "     if it.strip() not in lista_unicos:\n",
        "        lista_unicos.append(it.strip())\n",
        "  \n",
        "  ids = []\n",
        "  for k in range(len(lista_unicos)):\n",
        "    ids.append(k)\n",
        "\n",
        "  lista_nos = pd.DataFrame()\n",
        "  lista_nos[\"Label\"] = lista_unicos\n",
        "  lista_nos[\"Id\"] = ids\n",
        "\n",
        "  print(lista_nos)\n",
        "\n",
        "  return lista_nos,lista_unicos,ids\n",
        "\n",
        "\n",
        "########################################\n",
        "\n",
        "def gera_relacoes(lista_unicos, ids,variavel):\n",
        "\n",
        "  variavel = variavel.reset_index()\n",
        "  print(variavel)\n",
        "  z= input('')\n",
        "  rgx = re.compile(\"\\[|\\]|'\")\n",
        "  dict_ids = {}\n",
        "  for id,lb in zip(ids, lista_unicos):\n",
        "    dict_ids[lb]= id\n",
        "  \n",
        "\n",
        "  print(dict_ids)\n",
        "\n",
        "\n",
        "  source =[]\n",
        "  target = []\n",
        "\n",
        "\n",
        "  for n in range(len(variavel)):\n",
        "    text_str = variavel.iloc[n,1]\n",
        "    item = re.sub(rgx,\"\", str(text_str))\n",
        "    sublist = item.split(\",\")\n",
        "\n",
        "    for d in range(len(sublist)):\n",
        "      # print(sublist[d].strip())\n",
        "      # z= input(\"\")\n",
        "      id_source = dict_ids[sublist[d].strip()]\n",
        "      if d == len(sublist)-1:\n",
        "        pass\n",
        "      else:\n",
        "        for e in range(d+1, len(sublist)):\n",
        "          source.append(id_source)\n",
        "          id_target = dict_ids[sublist[e].strip()]\n",
        "          target.append(id_target)\n",
        "        # print(source)\n",
        "        # print(target)\n",
        "        # z = input(\"\")\n",
        "\n",
        "  relacoes = pd.DataFrame()\n",
        "\n",
        "  relacoes[\"Source\"] = source\n",
        "  relacoes[\"Target\"] = target\n",
        "  relacoes[\"Type\"] = \"Directed\"\n",
        "    \n",
        "  # print(relacoes)\n",
        "  return relacoes\n",
        "\n",
        "  "
      ],
      "metadata": {
        "id": "9VMrP1gN0xR8"
      },
      "execution_count": null,
      "outputs": []
    },
    {
      "cell_type": "markdown",
      "source": [
        "separar só as publicações com mais de um órgão de controle e gerar o insumo da analise de redes delas"
      ],
      "metadata": {
        "id": "CIC7OunbyO-_"
      }
    },
    {
      "cell_type": "code",
      "source": [
        "df_filter = planilha[\"qtdade_orgaos\"] > 1\n",
        "planilha_nos_org = planilha[df_filter]\n",
        "\n",
        "# planilha_nos_org[\"orgaos\"] = planilha_nos_org[\"orgaos\"].astype(str).str.replace(\"tcu\",\"tribunal de contas\")\n",
        "# planilha_nos_org[\"orgaos\"] = planilha_nos_org[\"orgaos\"].astype(str).str.replace(\"bacen\",\"banco central\")\n",
        "\n",
        "lista_nos, lista_unicos,ids = gera_nos(planilha_nos_org[\"orgaos\"])\n",
        "\n",
        "\n",
        "lista_nos.to_csv(\"lista_nos_orgaos.csv\", index= False, encoding= 'utf-8')\n",
        "files.download('lista_nos_orgaos.csv')\n",
        "\n",
        "\n",
        "relacoes_org = gera_relacoes(lista_unicos, ids, planilha_nos_org[\"orgaos\"])\n",
        "\n",
        "\n",
        "relacoes_org.to_csv(\"relacoes_org.csv\", index= False)\n",
        "files.download(\"relacoes_org.csv\")"
      ],
      "metadata": {
        "colab": {
          "base_uri": "https://localhost:8080/",
          "height": 434
        },
        "id": "iy7nCZuKyaaq",
        "outputId": "671df45e-c53f-4fe6-90f2-1f8f287b498a"
      },
      "execution_count": null,
      "outputs": [
        {
          "output_type": "stream",
          "name": "stdout",
          "text": [
            "                Label  Id\n",
            "0       banco central   0\n",
            "1       policia civil   1\n",
            "2  tribunal de contas   2\n",
            "3                coaf   3\n",
            "4     receita federal   4\n",
            "5     policia federal   5\n",
            "6              jucesp   6\n"
          ]
        },
        {
          "output_type": "display_data",
          "data": {
            "text/plain": [
              "<IPython.core.display.Javascript object>"
            ],
            "application/javascript": [
              "\n",
              "    async function download(id, filename, size) {\n",
              "      if (!google.colab.kernel.accessAllowed) {\n",
              "        return;\n",
              "      }\n",
              "      const div = document.createElement('div');\n",
              "      const label = document.createElement('label');\n",
              "      label.textContent = `Downloading \"${filename}\": `;\n",
              "      div.appendChild(label);\n",
              "      const progress = document.createElement('progress');\n",
              "      progress.max = size;\n",
              "      div.appendChild(progress);\n",
              "      document.body.appendChild(div);\n",
              "\n",
              "      const buffers = [];\n",
              "      let downloaded = 0;\n",
              "\n",
              "      const channel = await google.colab.kernel.comms.open(id);\n",
              "      // Send a message to notify the kernel that we're ready.\n",
              "      channel.send({})\n",
              "\n",
              "      for await (const message of channel.messages) {\n",
              "        // Send a message to notify the kernel that we're ready.\n",
              "        channel.send({})\n",
              "        if (message.buffers) {\n",
              "          for (const buffer of message.buffers) {\n",
              "            buffers.push(buffer);\n",
              "            downloaded += buffer.byteLength;\n",
              "            progress.value = downloaded;\n",
              "          }\n",
              "        }\n",
              "      }\n",
              "      const blob = new Blob(buffers, {type: 'application/binary'});\n",
              "      const a = document.createElement('a');\n",
              "      a.href = window.URL.createObjectURL(blob);\n",
              "      a.download = filename;\n",
              "      div.appendChild(a);\n",
              "      a.click();\n",
              "      div.remove();\n",
              "    }\n",
              "  "
            ]
          },
          "metadata": {}
        },
        {
          "output_type": "display_data",
          "data": {
            "text/plain": [
              "<IPython.core.display.Javascript object>"
            ],
            "application/javascript": [
              "download(\"download_9c5692e3-7971-4821-b92e-11ffaa034acb\", \"lista_nos_orgaos.csv\", 114)"
            ]
          },
          "metadata": {}
        },
        {
          "output_type": "stream",
          "name": "stdout",
          "text": [
            "     index                                             orgaos\n",
            "0       26                     [banco central, policia civil]\n",
            "1       71                     [policia civil, banco central]\n",
            "2      532                [tribunal de contas, banco central]\n",
            "3      621                [tribunal de contas, policia civil]\n",
            "4      629                [banco central, tribunal de contas]\n",
            "..     ...                                                ...\n",
            "185  45689                [banco central, tribunal de contas]\n",
            "186  45729              [tribunal de contas, policia federal]\n",
            "187  45739  [tribunal de contas, receita federal, policia ...\n",
            "188  45781                 [receita federal, policia federal]\n",
            "189  45820                 [receita federal, policia federal]\n",
            "\n",
            "[190 rows x 2 columns]\n",
            "\n",
            "{'banco central': 0, 'policia civil': 1, 'tribunal de contas': 2, 'coaf': 3, 'receita federal': 4, 'policia federal': 5, 'jucesp': 6}\n"
          ]
        },
        {
          "output_type": "display_data",
          "data": {
            "text/plain": [
              "<IPython.core.display.Javascript object>"
            ],
            "application/javascript": [
              "\n",
              "    async function download(id, filename, size) {\n",
              "      if (!google.colab.kernel.accessAllowed) {\n",
              "        return;\n",
              "      }\n",
              "      const div = document.createElement('div');\n",
              "      const label = document.createElement('label');\n",
              "      label.textContent = `Downloading \"${filename}\": `;\n",
              "      div.appendChild(label);\n",
              "      const progress = document.createElement('progress');\n",
              "      progress.max = size;\n",
              "      div.appendChild(progress);\n",
              "      document.body.appendChild(div);\n",
              "\n",
              "      const buffers = [];\n",
              "      let downloaded = 0;\n",
              "\n",
              "      const channel = await google.colab.kernel.comms.open(id);\n",
              "      // Send a message to notify the kernel that we're ready.\n",
              "      channel.send({})\n",
              "\n",
              "      for await (const message of channel.messages) {\n",
              "        // Send a message to notify the kernel that we're ready.\n",
              "        channel.send({})\n",
              "        if (message.buffers) {\n",
              "          for (const buffer of message.buffers) {\n",
              "            buffers.push(buffer);\n",
              "            downloaded += buffer.byteLength;\n",
              "            progress.value = downloaded;\n",
              "          }\n",
              "        }\n",
              "      }\n",
              "      const blob = new Blob(buffers, {type: 'application/binary'});\n",
              "      const a = document.createElement('a');\n",
              "      a.href = window.URL.createObjectURL(blob);\n",
              "      a.download = filename;\n",
              "      div.appendChild(a);\n",
              "      a.click();\n",
              "      div.remove();\n",
              "    }\n",
              "  "
            ]
          },
          "metadata": {}
        },
        {
          "output_type": "display_data",
          "data": {
            "text/plain": [
              "<IPython.core.display.Javascript object>"
            ],
            "application/javascript": [
              "download(\"download_a80b509e-6c71-4744-9aff-3c5fbe018f76\", \"relacoes_org.csv\", 2944)"
            ]
          },
          "metadata": {}
        }
      ]
    },
    {
      "cell_type": "code",
      "source": [
        "rgx = re.compile(\"\\[|\\]|'\")\n",
        "\n",
        "df_orgaos = pd.DataFrame()\n",
        "df_qtdade = pd.DataFrame()\n",
        "org = []\n",
        "f = 0\n",
        "qtdade = []\n",
        "for item in planilha[\"orgaos\"]:\n",
        "  item = re.sub(rgx,\"\", str(item))\n",
        "  if len(item) > 0:\n",
        "    f = f+1\n",
        "    # print(item)\n",
        "    itens = item.split(\",\")\n",
        "    # print(len(itens))\n",
        "    if len(itens) > 1:\n",
        "      qtdade.append(len(itens))\n",
        "      for it in itens:\n",
        "        org.append(it.strip())\n",
        "    else:\n",
        "      qtdade.append(1)\n",
        "      org.append(item.strip())\n",
        "\n",
        "    \n",
        "\n",
        "print(f)\n",
        "print(\"o percentual é:\",(f*100)/len(planilha[\"orgaos\"]))\n",
        "df_orgaos[\"org\"] = org\n",
        "df_qtdade[\"qtdade\"] = qtdade\n",
        "\n",
        "\n",
        "df_orgaos[\"org\"] = np.where(df_orgaos[\"org\"] == \"tcu\", \"tribunal de contas\",df_orgaos[\"org\"])\n",
        "df_orgaos[\"org\"] = np.where(df_orgaos[\"org\"] == \"bacen\", \"banco central\",df_orgaos[\"org\"])\n",
        "\n",
        "print(df_orgaos[\"org\"].value_counts())\n",
        "\n",
        "print(\"-\"*20)\n",
        "\n",
        "print(df_qtdade[\"qtdade\"].value_counts())\n",
        "\n",
        "\n",
        "var_org = df_orgaos[\"org\"].value_counts().to_frame()\n",
        "var_org.to_excel(\"var_org.xlsx\")\n",
        "files.download('var_org.xlsx')\n"
      ],
      "metadata": {
        "colab": {
          "base_uri": "https://localhost:8080/",
          "height": 312
        },
        "id": "e6qZ7ao77Bc9",
        "outputId": "5b64d695-3fc6-49b5-d3e7-42f6fe92487a"
      },
      "execution_count": null,
      "outputs": [
        {
          "output_type": "stream",
          "name": "stdout",
          "text": [
            "2049\n",
            "o percentual é: 4.465608926859036\n",
            "tribunal de contas    955\n",
            "banco central         590\n",
            "receita federal       289\n",
            "policia federal       171\n",
            "policia civil         136\n",
            "jucesp                100\n",
            "coaf                   13\n",
            "drci                    2\n",
            "Name: org, dtype: int64\n",
            "--------------------\n",
            "1    1859\n",
            "2     174\n",
            "3      15\n",
            "4       1\n",
            "Name: qtdade, dtype: int64\n"
          ]
        },
        {
          "output_type": "display_data",
          "data": {
            "text/plain": [
              "<IPython.core.display.Javascript object>"
            ],
            "application/javascript": [
              "\n",
              "    async function download(id, filename, size) {\n",
              "      if (!google.colab.kernel.accessAllowed) {\n",
              "        return;\n",
              "      }\n",
              "      const div = document.createElement('div');\n",
              "      const label = document.createElement('label');\n",
              "      label.textContent = `Downloading \"${filename}\": `;\n",
              "      div.appendChild(label);\n",
              "      const progress = document.createElement('progress');\n",
              "      progress.max = size;\n",
              "      div.appendChild(progress);\n",
              "      document.body.appendChild(div);\n",
              "\n",
              "      const buffers = [];\n",
              "      let downloaded = 0;\n",
              "\n",
              "      const channel = await google.colab.kernel.comms.open(id);\n",
              "      // Send a message to notify the kernel that we're ready.\n",
              "      channel.send({})\n",
              "\n",
              "      for await (const message of channel.messages) {\n",
              "        // Send a message to notify the kernel that we're ready.\n",
              "        channel.send({})\n",
              "        if (message.buffers) {\n",
              "          for (const buffer of message.buffers) {\n",
              "            buffers.push(buffer);\n",
              "            downloaded += buffer.byteLength;\n",
              "            progress.value = downloaded;\n",
              "          }\n",
              "        }\n",
              "      }\n",
              "      const blob = new Blob(buffers, {type: 'application/binary'});\n",
              "      const a = document.createElement('a');\n",
              "      a.href = window.URL.createObjectURL(blob);\n",
              "      a.download = filename;\n",
              "      div.appendChild(a);\n",
              "      a.click();\n",
              "      div.remove();\n",
              "    }\n",
              "  "
            ]
          },
          "metadata": {}
        },
        {
          "output_type": "display_data",
          "data": {
            "text/plain": [
              "<IPython.core.display.Javascript object>"
            ],
            "application/javascript": [
              "download(\"download_743b3bb1-574a-46f9-818f-effc0e01dfc1\", \"var_org.xlsx\", 5070)"
            ]
          },
          "metadata": {}
        }
      ]
    },
    {
      "cell_type": "code",
      "source": [
        "# rgx_org =  re.compile(\"receita federal|coaf|banco central|drci|policia civil|tcu|tribunal de contas|policia federal|conselho de controle de atividades financeiras|polícia federal|polícia civil\")\n",
        "# orgaos = []\n",
        "# for f in range(len(planilha)):\n",
        "#   org_prov = []\n",
        "#   # print(\"estamos no\", f)\n",
        "#   tex = planilha.iloc[f,1]\n",
        "#   tex = tex.lower()\n",
        "\n",
        "#   if re.search(rgx_org,tex):\n",
        "#       tm_rgx = re.search(rgx_org,tex).group()\n",
        "#       if tm_rgx not in org_prov:\n",
        "#         org_prov.append(tm_rgx)\n",
        "#   orgaos.append(org_prov)\n",
        "\n",
        "# print(len(orgaos))\n",
        "# planilha[\"orgaos_2\"] = orgaos"
      ],
      "metadata": {
        "id": "c7FVkAeRGFRA"
      },
      "execution_count": null,
      "outputs": []
    },
    {
      "cell_type": "code",
      "source": [
        "# df_orgaos = pd.DataFrame()\n",
        "\n",
        "\n",
        "# org = []\n",
        "# f = 0\n",
        "# for item in planilha[\"orgaos_2\"]:\n",
        "#   item = re.sub(rgx,\"\", str(item))\n",
        "#   if len(item) > 0:\n",
        "#     f = f+1\n",
        "#     # print(item)\n",
        "#     item = item.split(\",\")\n",
        "#     for it in item:\n",
        "#       org.append(it.strip())\n",
        "\n",
        "# print(f)\n",
        "# print(\"o percentual é:\",(f*100)/len(planilha[\"orgaos_2\"]))\n",
        "# df_orgaos[\"org\"] = org\n",
        "\n",
        "# df_orgaos[\"org\"] = np.where(df_orgaos[\"org\"] == \"tcu\", \"tribunal de contas\",df_orgaos[\"org\"])\n",
        "\n",
        "# df_orgaos[\"org\"].value_counts()"
      ],
      "metadata": {
        "id": "6w2_K6EzGqJP"
      },
      "execution_count": null,
      "outputs": []
    },
    {
      "cell_type": "markdown",
      "source": [
        "Ou seja, o regex tem um desempenho pior do que o bag of words...\n",
        "FAZER A ANÁLISE DE REDES DOS ORGÃOS"
      ],
      "metadata": {
        "id": "o75ySbaVIFz1"
      }
    },
    {
      "cell_type": "markdown",
      "source": [
        "Repetindo os procedimentos para os instrumentos utilizados pelos juízes"
      ],
      "metadata": {
        "id": "XR4OBA01OBO0"
      }
    },
    {
      "cell_type": "code",
      "source": [
        "rgx_inst =  re.compile(\"rif|pericia|sisbajud|bacenjud|infojud|drci|renajud|srei|ccs|sinesp|infoseg|lab-ld|laudo(s)\")\n",
        "\n",
        "instrum = []\n",
        "qtde_inst_c = []\n",
        "for f in range(len(planilha)):\n",
        "  inst_prov = []\n",
        "  # print(\"estamos no\", f)\n",
        "  tex = planilha.iloc[f,1]\n",
        "  tex = re.sub(\"[^\\w]|\\d|,|_\",\" \",tex)\n",
        "  text = [tex]\n",
        "  bag_of_words_transformer = CountVectorizer(ngram_range=(1,3), strip_accents= \"unicode\")\n",
        "  mx = bag_of_words_transformer.fit_transform(text).todense()\n",
        "  terms = bag_of_words_transformer.get_feature_names_out()\n",
        "  for tm in terms:\n",
        "    if re.search(rgx_inst,tm):\n",
        "      tm_rgx = re.search(rgx_inst,tm).group()\n",
        "      if tm_rgx not in inst_prov:\n",
        "        inst_prov.append(tm_rgx)\n",
        "  qtde_inst_c.append(len(inst_prov))\n",
        "  instrum.append(inst_prov)\n",
        "\n",
        "planilha[\"instrumentos\"] = instrum\n",
        "planilha[\"qtdade_instrumentos\"] = qtde_inst_c"
      ],
      "metadata": {
        "id": "5djZH3ZUIZWb"
      },
      "execution_count": null,
      "outputs": []
    },
    {
      "cell_type": "markdown",
      "source": [
        "analise de redes dos instrumentos"
      ],
      "metadata": {
        "id": "cXTVaAW9d2Md"
      }
    },
    {
      "cell_type": "code",
      "source": [
        "df_filter = planilha[\"qtdade_instrumentos\"] > 1\n",
        "planilha_nos_inst = planilha[df_filter]\n",
        "\n",
        "lista_nos, lista_unicos,ids = gera_nos(planilha_nos_inst[\"instrumentos\"])\n",
        "\n",
        "\n",
        "# lista_nos.to_csv(\"lista_nos_instrumentos.csv\", index= False, encoding= 'utf-8')\n",
        "# files.download('lista_nos_instrumentos.csv')\n",
        "\n",
        "\n",
        "relacoes_inst = gera_relacoes(lista_unicos, ids, planilha_nos_inst[\"instrumentos\"])\n",
        "\n",
        "\n",
        "# relacoes_inst.to_csv(\"relacoes_inst.csv\", index= False)\n",
        "# files.download(\"relacoes_inst.csv\")"
      ],
      "metadata": {
        "colab": {
          "base_uri": "https://localhost:8080/"
        },
        "id": "XZom3f-ed34Z",
        "outputId": "cdd3dbfa-4358-4767-be7f-700b86460b2c"
      },
      "execution_count": null,
      "outputs": [
        {
          "output_type": "stream",
          "name": "stdout",
          "text": [
            "       Label  Id\n",
            "0        rif   0\n",
            "1    pericia   1\n",
            "2    infojud   2\n",
            "3   bacenjud   3\n",
            "4     laudos   4\n",
            "5    renajud   5\n",
            "6    infoseg   6\n",
            "7   sisbajud   7\n",
            "8        ccs   8\n",
            "9       drci   9\n",
            "10      srei  10\n",
            "      index                           instrumentos\n",
            "0        17                         [rif, pericia]\n",
            "1        23                         [rif, pericia]\n",
            "2        26               [infojud, bacenjud, rif]\n",
            "3        37             [pericia, infojud, laudos]\n",
            "4        52  [bacenjud, pericia, infojud, renajud]\n",
            "...     ...                                    ...\n",
            "1086  45729                 [pericia, rif, laudos]\n",
            "1087  45730                         [rif, pericia]\n",
            "1088  45739                 [pericia, rif, laudos]\n",
            "1089  45740                         [rif, pericia]\n",
            "1090  45823                         [pericia, rif]\n",
            "\n",
            "[1091 rows x 2 columns]\n",
            "\n",
            "{'rif': 0, 'pericia': 1, 'infojud': 2, 'bacenjud': 3, 'laudos': 4, 'renajud': 5, 'infoseg': 6, 'sisbajud': 7, 'ccs': 8, 'drci': 9, 'srei': 10}\n"
          ]
        }
      ]
    },
    {
      "cell_type": "markdown",
      "source": [
        "agora a análise de redes entre os instumentos e os órgãos de cooperação"
      ],
      "metadata": {
        "id": "D4y1AziExXzH"
      }
    },
    {
      "cell_type": "code",
      "source": [
        "df_filter_1 = planilha[\"qtdade_orgaos\"] > 0\n",
        "planilha_nos_org_b = planilha[df_filter_1]\n",
        "\n",
        "# print(planilha_nos_org_b)\n",
        "\n",
        "df_filter_2 = planilha_nos_org_b[\"qtdade_instrumentos\"] > 0\n",
        "planilha_nos_inst_b = planilha_nos_org_b[df_filter_2]\n",
        "\n",
        "# filtradas as planilhas agora preciso juntar as strings das duas variáveis\n",
        "\n",
        "planilha_nos_inst_b[\"unif_org_inst\"] = planilha_nos_inst_b[\"orgaos\"].astype(str)+\"___\"+planilha_nos_inst_b[\"instrumentos\"].astype(str)\n",
        "\n",
        "planilha_nos_inst_b[\"unif_org_inst\"] = planilha_nos_inst_b[\"unif_org_inst\"].astype(str).str.replace(\"\\]___\\[\", \",\").str.strip()\n",
        "\n",
        "# planilha_nos_inst_b[\"unif_org_inst\"]"
      ],
      "metadata": {
        "colab": {
          "base_uri": "https://localhost:8080/"
        },
        "id": "-5ljkRuVxgdo",
        "outputId": "42bc4244-16bb-4c69-d52c-eceb23faf3fd"
      },
      "execution_count": null,
      "outputs": [
        {
          "output_type": "stream",
          "name": "stderr",
          "text": [
            "/usr/local/lib/python3.7/dist-packages/ipykernel_launcher.py:11: SettingWithCopyWarning: \n",
            "A value is trying to be set on a copy of a slice from a DataFrame.\n",
            "Try using .loc[row_indexer,col_indexer] = value instead\n",
            "\n",
            "See the caveats in the documentation: https://pandas.pydata.org/pandas-docs/stable/user_guide/indexing.html#returning-a-view-versus-a-copy\n",
            "  # This is added back by InteractiveShellApp.init_path()\n",
            "/usr/local/lib/python3.7/dist-packages/ipykernel_launcher.py:13: FutureWarning: The default value of regex will change from True to False in a future version.\n",
            "  del sys.path[0]\n",
            "/usr/local/lib/python3.7/dist-packages/ipykernel_launcher.py:13: SettingWithCopyWarning: \n",
            "A value is trying to be set on a copy of a slice from a DataFrame.\n",
            "Try using .loc[row_indexer,col_indexer] = value instead\n",
            "\n",
            "See the caveats in the documentation: https://pandas.pydata.org/pandas-docs/stable/user_guide/indexing.html#returning-a-view-versus-a-copy\n",
            "  del sys.path[0]\n"
          ]
        }
      ]
    },
    {
      "cell_type": "markdown",
      "source": [
        "gerar agora os dados dos orgaos por Estado"
      ],
      "metadata": {
        "id": "N9VYPiv3_IgH"
      }
    },
    {
      "cell_type": "code",
      "source": [
        "planilha_nos_org_b [\"tribunal\"] = np.where(planilha_nos_org_b[\"tribunal\"].isnull() == True, \"TJ\"+planilha_nos_org_b[\"estado\"].str[:],planilha_nos_org_b['tribunal'])\n",
        "\n",
        "\n",
        "rgx = re.compile(\"\\[|\\]|'\")\n",
        "\n",
        "df_orgaos_est = pd.DataFrame()\n",
        "df_est = pd.DataFrame()\n",
        "org_b = []\n",
        "est = []\n",
        "for og,et in zip(planilha_nos_org_b[\"orgaos\"],planilha_nos_org_b[\"tribunal\"]):\n",
        "  item = re.sub(rgx,\"\", str(og))\n",
        "  itens = item.split(\",\")\n",
        "  for it in itens:\n",
        "    org_b.append(it.strip())\n",
        "    est.append(et)\n",
        "\n",
        "df_orgaos_est[\"org\"] = org_b\n",
        "df_est[\"est\"] = est\n",
        "\n",
        "\n",
        "# print(df_orgaos_est[\"org\"].value_counts())\n",
        "\n",
        "# print(\"-\"*20)\n",
        "\n",
        "# print(df_est[\"est\"].value_counts())\n",
        "\n",
        "df_unif = pd.concat([df_orgaos_est,df_est], axis=1,ignore_index = True)\n",
        "unif_classes = pd.DataFrame(df_unif.groupby([1,0])[0].count())\n",
        "unif_classes.columns =[\"Quantidade\"]\n",
        "unif_classes = unif_classes.reset_index()\n",
        "unif_classes\n",
        "\n",
        "unif_classes.to_excel(\"unif_classes_org.xlsx\", index= False)\n",
        "files.download(\"unif_classes_org.xlsx\")\n"
      ],
      "metadata": {
        "colab": {
          "base_uri": "https://localhost:8080/",
          "height": 121
        },
        "id": "j1X3YQtv_MUx",
        "outputId": "440adccb-793d-4a44-c29a-6d7da28bc116"
      },
      "execution_count": null,
      "outputs": [
        {
          "output_type": "stream",
          "name": "stderr",
          "text": [
            "/usr/local/lib/python3.7/dist-packages/ipykernel_launcher.py:1: SettingWithCopyWarning: \n",
            "A value is trying to be set on a copy of a slice from a DataFrame.\n",
            "Try using .loc[row_indexer,col_indexer] = value instead\n",
            "\n",
            "See the caveats in the documentation: https://pandas.pydata.org/pandas-docs/stable/user_guide/indexing.html#returning-a-view-versus-a-copy\n",
            "  \"\"\"Entry point for launching an IPython kernel.\n"
          ]
        },
        {
          "output_type": "display_data",
          "data": {
            "text/plain": [
              "<IPython.core.display.Javascript object>"
            ],
            "application/javascript": [
              "\n",
              "    async function download(id, filename, size) {\n",
              "      if (!google.colab.kernel.accessAllowed) {\n",
              "        return;\n",
              "      }\n",
              "      const div = document.createElement('div');\n",
              "      const label = document.createElement('label');\n",
              "      label.textContent = `Downloading \"${filename}\": `;\n",
              "      div.appendChild(label);\n",
              "      const progress = document.createElement('progress');\n",
              "      progress.max = size;\n",
              "      div.appendChild(progress);\n",
              "      document.body.appendChild(div);\n",
              "\n",
              "      const buffers = [];\n",
              "      let downloaded = 0;\n",
              "\n",
              "      const channel = await google.colab.kernel.comms.open(id);\n",
              "      // Send a message to notify the kernel that we're ready.\n",
              "      channel.send({})\n",
              "\n",
              "      for await (const message of channel.messages) {\n",
              "        // Send a message to notify the kernel that we're ready.\n",
              "        channel.send({})\n",
              "        if (message.buffers) {\n",
              "          for (const buffer of message.buffers) {\n",
              "            buffers.push(buffer);\n",
              "            downloaded += buffer.byteLength;\n",
              "            progress.value = downloaded;\n",
              "          }\n",
              "        }\n",
              "      }\n",
              "      const blob = new Blob(buffers, {type: 'application/binary'});\n",
              "      const a = document.createElement('a');\n",
              "      a.href = window.URL.createObjectURL(blob);\n",
              "      a.download = filename;\n",
              "      div.appendChild(a);\n",
              "      a.click();\n",
              "      div.remove();\n",
              "    }\n",
              "  "
            ]
          },
          "metadata": {}
        },
        {
          "output_type": "display_data",
          "data": {
            "text/plain": [
              "<IPython.core.display.Javascript object>"
            ],
            "application/javascript": [
              "download(\"download_52c37ac4-ca2d-40d7-9dd4-8d100c47facc\", \"unif_classes_org.xlsx\", 6010)"
            ]
          },
          "metadata": {}
        }
      ]
    },
    {
      "cell_type": "markdown",
      "source": [
        "agora gerar os nos dessa parte unificada"
      ],
      "metadata": {
        "id": "xtXi9xfD1xJW"
      }
    },
    {
      "cell_type": "code",
      "source": [
        "lista_nos, lista_unicos,ids = gera_nos(planilha_nos_inst_b[\"unif_org_inst\"])\n",
        "\n",
        "\n",
        "lista_nos.to_csv(\"lista_nos_instrumentos_orgaos.csv\", index= False, encoding= 'utf-8')\n",
        "files.download('lista_nos_instrumentos_orgaos.csv')\n",
        "\n",
        "\n",
        "relacoes_inst = gera_relacoes(lista_unicos, ids, planilha_nos_inst_b[\"unif_org_inst\"])\n",
        "\n",
        "\n",
        "relacoes_inst.to_csv(\"relacoes_inst_org.csv\", index= False)\n",
        "files.download(\"relacoes_inst_org.csv\")"
      ],
      "metadata": {
        "colab": {
          "base_uri": "https://localhost:8080/",
          "height": 644
        },
        "id": "3oBB_yX_101O",
        "outputId": "86e30d69-4f68-4681-8d8b-199f8eded14e"
      },
      "execution_count": null,
      "outputs": [
        {
          "output_type": "stream",
          "name": "stdout",
          "text": [
            "                 Label  Id\n",
            "0        banco central   0\n",
            "1        policia civil   1\n",
            "2              infojud   2\n",
            "3             bacenjud   3\n",
            "4                  rif   4\n",
            "5      receita federal   5\n",
            "6              pericia   6\n",
            "7               laudos   7\n",
            "8              renajud   8\n",
            "9      policia federal   9\n",
            "10  tribunal de contas  10\n",
            "11                coaf  11\n",
            "12            sisbajud  12\n",
            "13                 ccs  13\n",
            "14                drci  14\n",
            "15             infoseg  15\n",
            "16              jucesp  16\n",
            "17                srei  17\n"
          ]
        },
        {
          "output_type": "display_data",
          "data": {
            "text/plain": [
              "<IPython.core.display.Javascript object>"
            ],
            "application/javascript": [
              "\n",
              "    async function download(id, filename, size) {\n",
              "      if (!google.colab.kernel.accessAllowed) {\n",
              "        return;\n",
              "      }\n",
              "      const div = document.createElement('div');\n",
              "      const label = document.createElement('label');\n",
              "      label.textContent = `Downloading \"${filename}\": `;\n",
              "      div.appendChild(label);\n",
              "      const progress = document.createElement('progress');\n",
              "      progress.max = size;\n",
              "      div.appendChild(progress);\n",
              "      document.body.appendChild(div);\n",
              "\n",
              "      const buffers = [];\n",
              "      let downloaded = 0;\n",
              "\n",
              "      const channel = await google.colab.kernel.comms.open(id);\n",
              "      // Send a message to notify the kernel that we're ready.\n",
              "      channel.send({})\n",
              "\n",
              "      for await (const message of channel.messages) {\n",
              "        // Send a message to notify the kernel that we're ready.\n",
              "        channel.send({})\n",
              "        if (message.buffers) {\n",
              "          for (const buffer of message.buffers) {\n",
              "            buffers.push(buffer);\n",
              "            downloaded += buffer.byteLength;\n",
              "            progress.value = downloaded;\n",
              "          }\n",
              "        }\n",
              "      }\n",
              "      const blob = new Blob(buffers, {type: 'application/binary'});\n",
              "      const a = document.createElement('a');\n",
              "      a.href = window.URL.createObjectURL(blob);\n",
              "      a.download = filename;\n",
              "      div.appendChild(a);\n",
              "      a.click();\n",
              "      div.remove();\n",
              "    }\n",
              "  "
            ]
          },
          "metadata": {}
        },
        {
          "output_type": "display_data",
          "data": {
            "text/plain": [
              "<IPython.core.display.Javascript object>"
            ],
            "application/javascript": [
              "download(\"download_8c3b8f28-9580-4b23-94b8-c1d4e25599ba\", \"lista_nos_instrumentos_orgaos.csv\", 219)"
            ]
          },
          "metadata": {}
        },
        {
          "output_type": "stream",
          "name": "stdout",
          "text": [
            "      index                                      unif_org_inst\n",
            "0        26  ['banco central', 'policia civil','infojud', '...\n",
            "1        37  ['receita federal','pericia', 'infojud', 'laud...\n",
            "2        52  ['banco central','bacenjud', 'pericia', 'infoj...\n",
            "3        69  ['receita federal','pericia', 'infojud', 'laud...\n",
            "4        71      ['policia civil', 'banco central','bacenjud']\n",
            "...     ...                                                ...\n",
            "1229  45776                          ['receita federal','rif']\n",
            "1230  45795                          ['receita federal','rif']\n",
            "1231  45801                            ['banco central','rif']\n",
            "1232  45820       ['receita federal', 'policia federal','rif']\n",
            "1233  45877                          ['policia federal','rif']\n",
            "\n",
            "[1234 rows x 2 columns]\n",
            "\n",
            "{'banco central': 0, 'policia civil': 1, 'infojud': 2, 'bacenjud': 3, 'rif': 4, 'receita federal': 5, 'pericia': 6, 'laudos': 7, 'renajud': 8, 'policia federal': 9, 'tribunal de contas': 10, 'coaf': 11, 'sisbajud': 12, 'ccs': 13, 'drci': 14, 'infoseg': 15, 'jucesp': 16, 'srei': 17}\n"
          ]
        },
        {
          "output_type": "display_data",
          "data": {
            "text/plain": [
              "<IPython.core.display.Javascript object>"
            ],
            "application/javascript": [
              "\n",
              "    async function download(id, filename, size) {\n",
              "      if (!google.colab.kernel.accessAllowed) {\n",
              "        return;\n",
              "      }\n",
              "      const div = document.createElement('div');\n",
              "      const label = document.createElement('label');\n",
              "      label.textContent = `Downloading \"${filename}\": `;\n",
              "      div.appendChild(label);\n",
              "      const progress = document.createElement('progress');\n",
              "      progress.max = size;\n",
              "      div.appendChild(progress);\n",
              "      document.body.appendChild(div);\n",
              "\n",
              "      const buffers = [];\n",
              "      let downloaded = 0;\n",
              "\n",
              "      const channel = await google.colab.kernel.comms.open(id);\n",
              "      // Send a message to notify the kernel that we're ready.\n",
              "      channel.send({})\n",
              "\n",
              "      for await (const message of channel.messages) {\n",
              "        // Send a message to notify the kernel that we're ready.\n",
              "        channel.send({})\n",
              "        if (message.buffers) {\n",
              "          for (const buffer of message.buffers) {\n",
              "            buffers.push(buffer);\n",
              "            downloaded += buffer.byteLength;\n",
              "            progress.value = downloaded;\n",
              "          }\n",
              "        }\n",
              "      }\n",
              "      const blob = new Blob(buffers, {type: 'application/binary'});\n",
              "      const a = document.createElement('a');\n",
              "      a.href = window.URL.createObjectURL(blob);\n",
              "      a.download = filename;\n",
              "      div.appendChild(a);\n",
              "      a.click();\n",
              "      div.remove();\n",
              "    }\n",
              "  "
            ]
          },
          "metadata": {}
        },
        {
          "output_type": "display_data",
          "data": {
            "text/plain": [
              "<IPython.core.display.Javascript object>"
            ],
            "application/javascript": [
              "download(\"download_0800fccf-bcda-455d-8ded-777e0da54063\", \"relacoes_inst_org.csv\", 43694)"
            ]
          },
          "metadata": {}
        }
      ]
    },
    {
      "cell_type": "code",
      "source": [
        "rgx = re.compile(\"\\[|\\]|'\")\n",
        "df_instr = pd.DataFrame()\n",
        "df_qtdade_instr = pd.DataFrame()\n",
        "inst = []\n",
        "f = 0\n",
        "qtdade = []\n",
        "for item in planilha[\"instrumentos\"]:\n",
        "  item = re.sub(rgx,\"\", str(item))\n",
        "  if len(item) > 0:\n",
        "    f = f+1\n",
        "    # print(item)\n",
        "    itens = item.split(\",\")\n",
        "    # print(len(itens))\n",
        "    if len(itens) > 1:\n",
        "      qtdade.append(len(itens))\n",
        "      for it in itens:\n",
        "        inst.append(it.strip())\n",
        "    else:\n",
        "      qtdade.append(1)\n",
        "      inst.append(item.strip())\n",
        "\n",
        "    \n",
        "\n",
        "print(f)\n",
        "print(\"o percentual é:\",(f*100)/len(planilha[\"instrumentos\"]))\n",
        "df_instr[\"instrumentos\"] = inst\n",
        "df_qtdade_instr[\"qtdade\"] = qtdade\n",
        "\n",
        "\n",
        "# df_orgaos[\"org\"] = np.where(df_orgaos[\"org\"] == \"tcu\", \"tribunal de contas\",df_orgaos[\"org\"])\n",
        "\n",
        "print(df_instr[\"instrumentos\"].value_counts())\n",
        "\n",
        "print(\"-\"*20)\n",
        "\n",
        "print(df_qtdade_instr[\"qtdade\"].value_counts())\n",
        "\n",
        "\n",
        "var_inst = df_instr[\"instrumentos\"].value_counts().to_frame()\n",
        "var_inst.to_excel(\"var_inst.xlsx\")\n",
        "files.download('var_inst.xlsx')"
      ],
      "metadata": {
        "colab": {
          "base_uri": "https://localhost:8080/",
          "height": 399
        },
        "id": "Uuq7mMZBPC4N",
        "outputId": "41db941c-d544-43eb-fdd2-62dd79939a5d"
      },
      "execution_count": null,
      "outputs": [
        {
          "output_type": "stream",
          "name": "stdout",
          "text": [
            "7116\n",
            "o percentual é: 15.50867404759829\n",
            "rif         5685\n",
            "pericia     1571\n",
            "renajud      440\n",
            "bacenjud     399\n",
            "laudos       167\n",
            "infojud      117\n",
            "sisbajud      57\n",
            "infoseg       15\n",
            "ccs           11\n",
            "drci           2\n",
            "srei           1\n",
            "Name: instrumentos, dtype: int64\n",
            "--------------------\n",
            "1    6025\n",
            "2     872\n",
            "3     188\n",
            "4      24\n",
            "5       6\n",
            "6       1\n",
            "Name: qtdade, dtype: int64\n"
          ]
        },
        {
          "output_type": "display_data",
          "data": {
            "text/plain": [
              "<IPython.core.display.Javascript object>"
            ],
            "application/javascript": [
              "\n",
              "    async function download(id, filename, size) {\n",
              "      if (!google.colab.kernel.accessAllowed) {\n",
              "        return;\n",
              "      }\n",
              "      const div = document.createElement('div');\n",
              "      const label = document.createElement('label');\n",
              "      label.textContent = `Downloading \"${filename}\": `;\n",
              "      div.appendChild(label);\n",
              "      const progress = document.createElement('progress');\n",
              "      progress.max = size;\n",
              "      div.appendChild(progress);\n",
              "      document.body.appendChild(div);\n",
              "\n",
              "      const buffers = [];\n",
              "      let downloaded = 0;\n",
              "\n",
              "      const channel = await google.colab.kernel.comms.open(id);\n",
              "      // Send a message to notify the kernel that we're ready.\n",
              "      channel.send({})\n",
              "\n",
              "      for await (const message of channel.messages) {\n",
              "        // Send a message to notify the kernel that we're ready.\n",
              "        channel.send({})\n",
              "        if (message.buffers) {\n",
              "          for (const buffer of message.buffers) {\n",
              "            buffers.push(buffer);\n",
              "            downloaded += buffer.byteLength;\n",
              "            progress.value = downloaded;\n",
              "          }\n",
              "        }\n",
              "      }\n",
              "      const blob = new Blob(buffers, {type: 'application/binary'});\n",
              "      const a = document.createElement('a');\n",
              "      a.href = window.URL.createObjectURL(blob);\n",
              "      a.download = filename;\n",
              "      div.appendChild(a);\n",
              "      a.click();\n",
              "      div.remove();\n",
              "    }\n",
              "  "
            ]
          },
          "metadata": {}
        },
        {
          "output_type": "display_data",
          "data": {
            "text/plain": [
              "<IPython.core.display.Javascript object>"
            ],
            "application/javascript": [
              "download(\"download_f77dccff-04dc-4a17-82ee-96e4cfcab9b4\", \"var_inst.xlsx\", 5110)"
            ]
          },
          "metadata": {}
        }
      ]
    },
    {
      "cell_type": "markdown",
      "source": [
        "agora chegou a vez das medidas. Primeiro temos que eliminar das medidas todas as que sejam também instrumentos ou órgãos."
      ],
      "metadata": {
        "id": "pm6NwHbRW3nl"
      }
    },
    {
      "cell_type": "code",
      "source": [
        "var_inst = df_instr[\"instrumentos\"].value_counts().to_frame()\n",
        "var_org = df_orgaos[\"org\"].value_counts().to_frame()\n",
        "\n",
        "# print(var_inst.index.values)\n",
        "\n",
        "l_1 = var_inst.index.values.tolist()\n",
        "l_2 = var_org.index.values.tolist()\n",
        "\n",
        "control = l_1 + l_2\n",
        "aux =  [\"edital\",\"edital de intimacao\",\"laudo de exame\",\"sistema bacenjud\",\"laudo pericial\",\"homologacao\",\"bacenjud\",\"bacen\",\"jucesp\",\"decreto prisional\"]\n",
        "control = control + aux\n",
        "# print(control)\n",
        "\n",
        "medidas_lp = []\n",
        "for item in planilha[\"medidas_judiciais\"]:\n",
        "  item = re.sub(rgx,\"\", str(item))\n",
        "  list_sub_lp = []\n",
        "  if len(item) > 0:\n",
        "    itens = item.split(\",\")\n",
        "    for it in itens:\n",
        "      if it.strip() not in control:\n",
        "        if it.strip() == \"decretar indisponibilidade\" or it.strip() == \"decreto de indisponibilidade\" or it.strip() == \"medida de indisponibilidade\":\n",
        "          it = \"decretacao de indisponibilidade\"\n",
        "        elif it.strip() == \"interceptacoes\":\n",
        "          it = \"interceptacao\"\n",
        "        elif it.strip() == \"interceptacoes telefonicas\":\n",
        "          it = \"interceptacao telefonica\"\n",
        "        list_sub_lp.append(it)\n",
        "  medidas_lp.append(list_sub_lp)\n",
        "\n",
        "\n",
        "planilha[\"medidas_judiciais\"] = medidas_lp \n"
      ],
      "metadata": {
        "id": "_E7CNSHYXLqt"
      },
      "execution_count": null,
      "outputs": []
    },
    {
      "cell_type": "markdown",
      "source": [
        "Agora precisamos gerar as frequencias das medidas tbem. Igual das outras"
      ],
      "metadata": {
        "id": "Frttcrs5b7T1"
      }
    },
    {
      "cell_type": "code",
      "source": [
        "\n",
        "df_medid = pd.DataFrame()\n",
        "df_qtdade_medid = pd.DataFrame()\n",
        "medid = []\n",
        "f = 0\n",
        "qtdade = []\n",
        "for item in planilha[\"medidas_judiciais\"]:\n",
        "  item = re.sub(rgx,\"\", str(item))\n",
        "  if len(item) > 0:\n",
        "    f = f+1\n",
        "    # print(item)\n",
        "    itens = item.split(\",\")\n",
        "    # print(len(itens))\n",
        "    if len(itens) > 1:\n",
        "      qtdade.append(len(itens))\n",
        "      for it in itens:\n",
        "        medid.append(it.strip())\n",
        "    else:\n",
        "      qtdade.append(1)\n",
        "      medid.append(item.strip())\n",
        "\n",
        "    \n",
        "\n",
        "print(f)\n",
        "print(\"o percentual é:\",(f*100)/len(planilha[\"medidas_judiciais\"]))\n",
        "df_medid[\"medidas\"] = medid\n",
        "df_qtdade_medid[\"qtdade\"] = qtdade\n",
        "\n",
        "\n",
        "print(df_medid[\"medidas\"].value_counts())\n",
        "\n",
        "print(\"-\"*20)\n",
        "\n",
        "print(df_qtdade_medid[\"qtdade\"].value_counts())\n",
        "\n",
        "\n",
        "var_med = df_medid[\"medidas\"].value_counts().to_frame()\n",
        "var_med.to_excel(\"var_med.xlsx\")\n",
        "files.download('var_med.xlsx')"
      ],
      "metadata": {
        "colab": {
          "base_uri": "https://localhost:8080/",
          "height": 1000
        },
        "id": "tcHJo70CcDYU",
        "outputId": "b6d5a1c0-84f8-4f79-cc96-b9285b6c54a2"
      },
      "execution_count": null,
      "outputs": [
        {
          "output_type": "stream",
          "name": "stdout",
          "text": [
            "8755\n",
            "o percentual é: 19.08072530729666\n",
            "decretacao de indisponibilidade    1740\n",
            "prisao preventiva                  1376\n",
            "medida cautelar                     926\n",
            "inquerito civil                     832\n",
            "interrogatorio                      783\n",
            "inquerito policial                  751\n",
            "apreensao                           721\n",
            "extincao da punibilidade            699\n",
            "antecipacao da tutela               608\n",
            "desbloqueio                         573\n",
            "medida liminar                      508\n",
            "prisao em flagrante                 452\n",
            "interceptacao                       389\n",
            "liberdade provisoria                380\n",
            "mandado de prisao                   366\n",
            "antecipado da lide                  361\n",
            "interceptacao telefonica            348\n",
            "prisao cautelar                     323\n",
            "bloqueio de bens                    319\n",
            "suspensao do processo               319\n",
            "trancamento da acao                 316\n",
            "sequestro                           311\n",
            "busca apreensao                     308\n",
            "suspensao condicional               290\n",
            "decretacao da prisao                270\n",
            "prisao domiciliar                   267\n",
            "tutela provisoria                   264\n",
            "extincao do processo                247\n",
            "gravacao                            168\n",
            "penhora avaliacao                   141\n",
            "relaxamento de prisao               139\n",
            "bens apreendidos                    136\n",
            "substituicao da prisao              129\n",
            "indeferimento da inicial            126\n",
            "suspensao da acao                   115\n",
            "investigacao criminal               114\n",
            "afastamento cautelar                104\n",
            "afastamento do cargo                103\n",
            "prisao provisoria                    93\n",
            "decreto de prisao                    92\n",
            "corte de contas                      77\n",
            "revogacao de prisao                  66\n",
            "restituicao de bens                  62\n",
            "apreensao em alienacao               55\n",
            "transacao penal                      49\n",
            "Name: medidas, dtype: int64\n",
            "--------------------\n",
            "1     5158\n",
            "2     1802\n",
            "3      760\n",
            "4      397\n",
            "5      237\n",
            "6      157\n",
            "7       98\n",
            "8       67\n",
            "9       35\n",
            "10      12\n",
            "11      10\n",
            "12      10\n",
            "13       6\n",
            "14       2\n",
            "15       1\n",
            "17       1\n",
            "16       1\n",
            "18       1\n",
            "Name: qtdade, dtype: int64\n"
          ]
        },
        {
          "output_type": "display_data",
          "data": {
            "text/plain": [
              "<IPython.core.display.Javascript object>"
            ],
            "application/javascript": [
              "\n",
              "    async function download(id, filename, size) {\n",
              "      if (!google.colab.kernel.accessAllowed) {\n",
              "        return;\n",
              "      }\n",
              "      const div = document.createElement('div');\n",
              "      const label = document.createElement('label');\n",
              "      label.textContent = `Downloading \"${filename}\": `;\n",
              "      div.appendChild(label);\n",
              "      const progress = document.createElement('progress');\n",
              "      progress.max = size;\n",
              "      div.appendChild(progress);\n",
              "      document.body.appendChild(div);\n",
              "\n",
              "      const buffers = [];\n",
              "      let downloaded = 0;\n",
              "\n",
              "      const channel = await google.colab.kernel.comms.open(id);\n",
              "      // Send a message to notify the kernel that we're ready.\n",
              "      channel.send({})\n",
              "\n",
              "      for await (const message of channel.messages) {\n",
              "        // Send a message to notify the kernel that we're ready.\n",
              "        channel.send({})\n",
              "        if (message.buffers) {\n",
              "          for (const buffer of message.buffers) {\n",
              "            buffers.push(buffer);\n",
              "            downloaded += buffer.byteLength;\n",
              "            progress.value = downloaded;\n",
              "          }\n",
              "        }\n",
              "      }\n",
              "      const blob = new Blob(buffers, {type: 'application/binary'});\n",
              "      const a = document.createElement('a');\n",
              "      a.href = window.URL.createObjectURL(blob);\n",
              "      a.download = filename;\n",
              "      div.appendChild(a);\n",
              "      a.click();\n",
              "      div.remove();\n",
              "    }\n",
              "  "
            ]
          },
          "metadata": {}
        },
        {
          "output_type": "display_data",
          "data": {
            "text/plain": [
              "<IPython.core.display.Javascript object>"
            ],
            "application/javascript": [
              "download(\"download_214103fb-e353-43d5-945a-b6034e66b94f\", \"var_med.xlsx\", 5878)"
            ]
          },
          "metadata": {}
        }
      ]
    },
    {
      "cell_type": "markdown",
      "source": [
        "Gerar essas medidas tbem em função dos Estados"
      ],
      "metadata": {
        "id": "uSQgp1Ycqi6h"
      }
    },
    {
      "cell_type": "code",
      "source": [
        "lista_nos, lista_unicos,ids = gera_nos(planilha[\"medidas_judiciais\"])\n",
        "\n",
        "\n",
        "lista_nos.to_csv(\"lista_nos_medidas.csv\", index= False, encoding= 'utf-8')\n",
        "files.download('lista_nos_medidas.csv')\n",
        "\n",
        "\n",
        "relacoes_inst = gera_relacoes(lista_unicos, ids, planilha[\"medidas_judiciais\"])\n",
        "\n",
        "\n",
        "relacoes_inst.to_csv(\"relacoes_medidas.csv\", index= False)\n",
        "files.download(\"relacoes_medidas.csv\")"
      ],
      "metadata": {
        "colab": {
          "base_uri": "https://localhost:8080/",
          "height": 1000
        },
        "id": "wl6BDUWorev5",
        "outputId": "b8890c00-6613-46de-ccbe-a650d5495485"
      },
      "execution_count": null,
      "outputs": [
        {
          "output_type": "stream",
          "name": "stdout",
          "text": [
            "                              Label  Id\n",
            "0                                     0\n",
            "1                 prisao preventiva   1\n",
            "2             antecipacao da tutela   2\n",
            "3   decretacao de indisponibilidade   3\n",
            "4                         apreensao   4\n",
            "5                     interceptacao   5\n",
            "6          interceptacao telefonica   6\n",
            "7                    interrogatorio   7\n",
            "8                    medida liminar   8\n",
            "9          extincao da punibilidade   9\n",
            "10               inquerito policial  10\n",
            "11                 bens apreendidos  11\n",
            "12             liberdade provisoria  12\n",
            "13                  medida cautelar  13\n",
            "14                  prisao cautelar  14\n",
            "15                  inquerito civil  15\n",
            "16             afastamento cautelar  16\n",
            "17              trancamento da acao  17\n",
            "18                tutela provisoria  18\n",
            "19               antecipado da lide  19\n",
            "20                mandado de prisao  20\n",
            "21            relaxamento de prisao  21\n",
            "22            suspensao condicional  22\n",
            "23             extincao do processo  23\n",
            "24                  busca apreensao  24\n",
            "25                      desbloqueio  25\n",
            "26           substituicao da prisao  26\n",
            "27            suspensao do processo  27\n",
            "28              prisao em flagrante  28\n",
            "29                prisao domiciliar  29\n",
            "30              revogacao de prisao  30\n",
            "31                 bloqueio de bens  31\n",
            "32             decretacao da prisao  32\n",
            "33             afastamento do cargo  33\n",
            "34                  corte de contas  34\n",
            "35                        sequestro  35\n",
            "36                prisao provisoria  36\n",
            "37         indeferimento da inicial  37\n",
            "38                         gravacao  38\n",
            "39              restituicao de bens  39\n",
            "40                decreto de prisao  40\n",
            "41            investigacao criminal  41\n",
            "42                  transacao penal  42\n",
            "43                suspensao da acao  43\n",
            "44           apreensao em alienacao  44\n",
            "45                penhora avaliacao  45\n"
          ]
        },
        {
          "output_type": "display_data",
          "data": {
            "text/plain": [
              "<IPython.core.display.Javascript object>"
            ],
            "application/javascript": [
              "\n",
              "    async function download(id, filename, size) {\n",
              "      if (!google.colab.kernel.accessAllowed) {\n",
              "        return;\n",
              "      }\n",
              "      const div = document.createElement('div');\n",
              "      const label = document.createElement('label');\n",
              "      label.textContent = `Downloading \"${filename}\": `;\n",
              "      div.appendChild(label);\n",
              "      const progress = document.createElement('progress');\n",
              "      progress.max = size;\n",
              "      div.appendChild(progress);\n",
              "      document.body.appendChild(div);\n",
              "\n",
              "      const buffers = [];\n",
              "      let downloaded = 0;\n",
              "\n",
              "      const channel = await google.colab.kernel.comms.open(id);\n",
              "      // Send a message to notify the kernel that we're ready.\n",
              "      channel.send({})\n",
              "\n",
              "      for await (const message of channel.messages) {\n",
              "        // Send a message to notify the kernel that we're ready.\n",
              "        channel.send({})\n",
              "        if (message.buffers) {\n",
              "          for (const buffer of message.buffers) {\n",
              "            buffers.push(buffer);\n",
              "            downloaded += buffer.byteLength;\n",
              "            progress.value = downloaded;\n",
              "          }\n",
              "        }\n",
              "      }\n",
              "      const blob = new Blob(buffers, {type: 'application/binary'});\n",
              "      const a = document.createElement('a');\n",
              "      a.href = window.URL.createObjectURL(blob);\n",
              "      a.download = filename;\n",
              "      div.appendChild(a);\n",
              "      a.click();\n",
              "      div.remove();\n",
              "    }\n",
              "  "
            ]
          },
          "metadata": {}
        },
        {
          "output_type": "display_data",
          "data": {
            "text/plain": [
              "<IPython.core.display.Javascript object>"
            ],
            "application/javascript": [
              "download(\"download_e5c6a1a1-249d-455c-b44f-bc3b934382e1\", \"lista_nos_medidas.csv\", 983)"
            ]
          },
          "metadata": {}
        },
        {
          "output_type": "stream",
          "name": "stdout",
          "text": [
            "       index        medidas_judiciais\n",
            "0          0                       []\n",
            "1          1                       []\n",
            "2          2      [prisao preventiva]\n",
            "3          3                       []\n",
            "4          4  [antecipacao da tutela]\n",
            "...      ...                      ...\n",
            "45879  45879                       []\n",
            "45880  45880                       []\n",
            "45881  45881         [interrogatorio]\n",
            "45882  45882         [interrogatorio]\n",
            "45883  45883                       []\n",
            "\n",
            "[45884 rows x 2 columns]\n",
            "\n",
            "{'': 0, 'prisao preventiva': 1, 'antecipacao da tutela': 2, 'decretacao de indisponibilidade': 3, 'apreensao': 4, 'interceptacao': 5, 'interceptacao telefonica': 6, 'interrogatorio': 7, 'medida liminar': 8, 'extincao da punibilidade': 9, 'inquerito policial': 10, 'bens apreendidos': 11, 'liberdade provisoria': 12, 'medida cautelar': 13, 'prisao cautelar': 14, 'inquerito civil': 15, 'afastamento cautelar': 16, 'trancamento da acao': 17, 'tutela provisoria': 18, 'antecipado da lide': 19, 'mandado de prisao': 20, 'relaxamento de prisao': 21, 'suspensao condicional': 22, 'extincao do processo': 23, 'busca apreensao': 24, 'desbloqueio': 25, 'substituicao da prisao': 26, 'suspensao do processo': 27, 'prisao em flagrante': 28, 'prisao domiciliar': 29, 'revogacao de prisao': 30, 'bloqueio de bens': 31, 'decretacao da prisao': 32, 'afastamento do cargo': 33, 'corte de contas': 34, 'sequestro': 35, 'prisao provisoria': 36, 'indeferimento da inicial': 37, 'gravacao': 38, 'restituicao de bens': 39, 'decreto de prisao': 40, 'investigacao criminal': 41, 'transacao penal': 42, 'suspensao da acao': 43, 'apreensao em alienacao': 44, 'penhora avaliacao': 45}\n"
          ]
        },
        {
          "output_type": "display_data",
          "data": {
            "text/plain": [
              "<IPython.core.display.Javascript object>"
            ],
            "application/javascript": [
              "\n",
              "    async function download(id, filename, size) {\n",
              "      if (!google.colab.kernel.accessAllowed) {\n",
              "        return;\n",
              "      }\n",
              "      const div = document.createElement('div');\n",
              "      const label = document.createElement('label');\n",
              "      label.textContent = `Downloading \"${filename}\": `;\n",
              "      div.appendChild(label);\n",
              "      const progress = document.createElement('progress');\n",
              "      progress.max = size;\n",
              "      div.appendChild(progress);\n",
              "      document.body.appendChild(div);\n",
              "\n",
              "      const buffers = [];\n",
              "      let downloaded = 0;\n",
              "\n",
              "      const channel = await google.colab.kernel.comms.open(id);\n",
              "      // Send a message to notify the kernel that we're ready.\n",
              "      channel.send({})\n",
              "\n",
              "      for await (const message of channel.messages) {\n",
              "        // Send a message to notify the kernel that we're ready.\n",
              "        channel.send({})\n",
              "        if (message.buffers) {\n",
              "          for (const buffer of message.buffers) {\n",
              "            buffers.push(buffer);\n",
              "            downloaded += buffer.byteLength;\n",
              "            progress.value = downloaded;\n",
              "          }\n",
              "        }\n",
              "      }\n",
              "      const blob = new Blob(buffers, {type: 'application/binary'});\n",
              "      const a = document.createElement('a');\n",
              "      a.href = window.URL.createObjectURL(blob);\n",
              "      a.download = filename;\n",
              "      div.appendChild(a);\n",
              "      a.click();\n",
              "      div.remove();\n",
              "    }\n",
              "  "
            ]
          },
          "metadata": {}
        },
        {
          "output_type": "display_data",
          "data": {
            "text/plain": [
              "<IPython.core.display.Javascript object>"
            ],
            "application/javascript": [
              "download(\"download_a7501f93-7d37-4617-915e-b2bcebb4717a\", \"relacoes_medidas.csv\", 273013)"
            ]
          },
          "metadata": {}
        }
      ]
    },
    {
      "cell_type": "markdown",
      "source": [
        "agora analisar a frequência dos tipos processuais"
      ],
      "metadata": {
        "id": "JKXMbVC4xtsw"
      }
    },
    {
      "cell_type": "code",
      "source": [
        "df_tipo = pd.DataFrame()\n",
        "df_qtdade_tipo = pd.DataFrame()\n",
        "tipo = []\n",
        "f = 0\n",
        "qtdade = []\n",
        "\n",
        "\n",
        "\n",
        "\n",
        "for item in planilha[\"tipo_acao\"]:\n",
        "  item = re.sub(rgx,\"\", str(item))\n",
        "  if len(item) > 0:\n",
        "    f = f+1\n",
        "    # print(item)\n",
        "    itens = item.split(\",\")\n",
        "    # print(len(itens))\n",
        "    if len(itens) > 1:\n",
        "      qtdade.append(len(itens))\n",
        "      for it in itens:\n",
        "        if it.strip() == \"medidas cautelares\":\n",
        "          it = \"acao cautelar\"\n",
        "        elif it.strip() == \"recursos especiais\":\n",
        "          it = \"recurso especial\"\n",
        "        elif it.strip() == \"apelacoes\":\n",
        "          it = \"apelacao\"\n",
        "        elif it.strip() == \"acoes penais\":\n",
        "          it = \"acao penal\"\n",
        "        elif it.strip() == \"apelacoes civeis\":\n",
        "          it = \"apelacao civel\"\n",
        "        elif it.strip() == \"acoes civis\":\n",
        "          it = \"acao civil\"\n",
        "        elif it.strip() == \"acoes de improbidade\":\n",
        "          it = \"acao de improbidade\"\n",
        "        elif it.strip() == \"acoes de ressarcimento\":\n",
        "          it = \"acao de ressarcimento\"\n",
        "        elif it.strip() == \"execucoes penais\":\n",
        "          it = \"execucao penal\"\n",
        "        elif it.strip() == \"execucoes criminais\":\n",
        "          it = \"execucao penal\"\n",
        "        elif it.strip() == \"cautelares\":\n",
        "          it = \"acao cautelar\"\n",
        "        tipo.append(it.strip())\n",
        "    else:\n",
        "      qtdade.append(1)\n",
        "      if item.strip() == \"medidas cautelares\":\n",
        "        item = \"acao cautelar\"\n",
        "      elif item.strip() == \"recursos especiais\":\n",
        "        item = \"recurso especial\"\n",
        "      elif item.strip() == \"apelacoes\":\n",
        "        item = \"apelacao\"\n",
        "      elif item.strip() == \"acoes penais\":\n",
        "        item = \"acao penal\"\n",
        "      elif item.strip() == \"apelacoes civeis\":\n",
        "        item = \"apelacao civel\"\n",
        "      elif item.strip() == \"acoes civis\":\n",
        "        item = \"acao civil\"\n",
        "      elif item.strip() == \"acoes de improbidade\":\n",
        "        item = \"acao de improbidade\"\n",
        "      elif item.strip() == \"acoes de ressarcimento\":\n",
        "        item = \"acao de ressarcimento\"\n",
        "      elif item.strip() == \"execucoes penais\":\n",
        "        item = \"execucao penal\"\n",
        "      elif item.strip() == \"execucoes criminais\":\n",
        "        item = \"execucao penal\"\n",
        "      elif item.strip() == \"cautelares\":\n",
        "          item = \"acao cautelar\"\n",
        "      tipo.append(item.strip())\n",
        "\n",
        "    \n",
        "\n",
        "print(f)\n",
        "print(\"o percentual é:\",(f*100)/len(planilha[\"tipo_acao\"]))\n",
        "df_tipo[\"tipo\"] = tipo\n",
        "df_qtdade_tipo[\"qtdade_tipo\"] = qtdade\n",
        "\n",
        "\n",
        "print(df_tipo[\"tipo\"].value_counts())\n",
        "\n",
        "print(\"-\"*20)\n",
        "\n",
        "print(df_qtdade_tipo[\"qtdade_tipo\"].value_counts())\n",
        "\n",
        "\n",
        "var_tipo = df_tipo[\"tipo\"].value_counts().to_frame()\n",
        "var_tipo.to_excel(\"var_tipo.xlsx\")\n",
        "files.download('var_tipo.xlsx')"
      ],
      "metadata": {
        "id": "u0dRYapGyFQ9"
      },
      "execution_count": null,
      "outputs": []
    },
    {
      "cell_type": "code",
      "source": [
        "def gera_dict_trm(lista):\n",
        "  list_unifica = {}\n",
        "  for i in lista:\n",
        "      if i in list_unifica:# and i != \"acao civil\":\n",
        "        vl = list_unifica[i]\n",
        "        list_unifica[i] = vl+1\n",
        "      else:\n",
        "        # if i != \"acao civil\":\n",
        "        list_unifica[i] = 1\n",
        "  return list_unifica\n",
        "\n",
        "##########################\n",
        "\n",
        "def nuvem_palavras(dict_d):\n",
        "    fig, ax1 = plt.subplots(sharex=True, sharey=True, figsize=(12,6))\n",
        "    # wc = WordCloud(background_color=\"white\",random_state=80, width=2000, height=1500) # ajuste dos tipos proessuais\n",
        "    wc = WordCloud(max_font_size=40,random_state=42, background_color=\"white\")#background_color=\"white\",random_state=30, width=2000, height=900) # ajuste dos assuntos\n",
        "    # wc = WordCloud(background_color=\"white\",random_state=80, width=1500, height=600)\n",
        "    wc.generate_from_frequencies(dict_d) #ajuste do tamanho das palavras\n",
        "    ax1.imshow(wc, interpolation=\"bilinear\")\n",
        "    # ax1.imshow(wc)\n",
        "    ax1.set_axis_off()"
      ],
      "metadata": {
        "id": "FkLOQwLWYVN3"
      },
      "execution_count": null,
      "outputs": []
    },
    {
      "cell_type": "code",
      "source": [
        "dict_tipo = gera_dict_trm(tipo)\n",
        "nuvem_palavras(dict_tipo)"
      ],
      "metadata": {
        "colab": {
          "base_uri": "https://localhost:8080/",
          "height": 357
        },
        "id": "tUiYxF4qYazA",
        "outputId": "32529d23-2db7-4379-c234-be04c30358fc"
      },
      "execution_count": null,
      "outputs": [
        {
          "output_type": "display_data",
          "data": {
            "text/plain": [
              "<Figure size 1152x432 with 1 Axes>"
            ],
            "image/png": "[encoded data removed]"
          },
          "metadata": {
            "needs_background": "light"
          }
        }
      ]
    },
    {
      "cell_type": "markdown",
      "source": [
        "Agora os assuntos"
      ],
      "metadata": {
        "id": "xMSgk4GxybdU"
      }
    },
    {
      "cell_type": "code",
      "source": [
        "rgx_1 = re.compile(\"atos de improbidade|atos improbos|pratica de improbidade|administrativo improbidade|assunto improbidade administrativa|conduta improba|civel assunto improbidade\")\n",
        "rgx_2 =  re.compile(\"creditos|divida ativa|exercicio financeiro|contribuinte de direito|isencao|correcao monetaria|arrecadacao|tributaria|contra ordem tributaria|credito tributario|debito tributario|sonegacao fiscal|debito fiscal|inadimplemento tributario|pagamento de tributos|crime de sonegacao\")\n",
        "rgx_3 = re.compile(\"indenizacao por dano|multa civil|pagamento de multa|civel indenizacao|prestacao pecuniaria|indenizacao\")\n",
        "rgx_4 = re.compile(\"sigilo bancario|sigilo|bancarias|conta bancaria|extratos|bancario fiscal\")\n",
        "rgx_5 = re.compile(\"apropriacao de imposto|apropriacao indebita|enriquecimento ilicito|vantagem ilicita\")\n",
        "rgx_6 = re.compile(\"trafico de drogas|entorpecente|trafico de entorpecentes|ilicito de entorpecentes|delito de trafico|penal trafico\")\n",
        "rgx_7 = re.compile(\"recursos federais|recursos publicos|prestacao de contas|ressarcimento ao erario|ressarcimento de danos|lesao ao erario|lesao ao patrimonio|danos ao erario|patrimonio publico|dinheiro publico|protecao do patrimonio|contas de gestao\")\n",
        "rgx_8 = re.compile(\"corrupcao ativa|crime de corrupcao|delito de corrupcao\")\n",
        "rgx_9 = re.compile(\"remuneracao|adicional de tempo|adicional por tempo|cargo de prefeito|exercicio do mandato|cargo de vereador|irredutibilidade da remuneracao|aposentadoria|nomeacao|cargo publico|servico publico|cargo em comissao|valor da remuneracao|exoneracao|exercicio do cargo|exame de admissibilidade|nomeacoes|cargo comissionado|cobranca servidor|irredutibilidade salarial|reintegracao|estatuto dos servidores|pagamento do adicional\")\n",
        "rgx_10 = re.compile(\"comissao de licitacao|procedimento licitatorio|dispensa de licitacao|contrato administrativo|inexigibilidade de licitacao|processos licitatorios|dispensa ou inexigibilidade\")\n",
        "rgx_11 = re.compile(\"lavagem ou ocultacao|lavagem de dinheiro|dilapidacao do patrimonio|dilapidacao patrimonial\")\n",
        "rgx_12 = re.compile(\"empreendimentos imobiliarios|contribuicao social|pagamento de honorarios|alimentar|alienacao fiduciaria|consumidor|contrato social|personalidade juridica|gestao da empresa|danos materiais|bens moveis|bens direitos|bens valores|incorporacao|credito financiamento\")\n",
        "rgx_13 = re.compile(\"procedimento investigatorio|procedimento administrativo|moralidade administrativa|atos administrativos\")\n",
        "rgx_14 = re.compile(\"crimes de responsabilidade|crime de peculato|prevaricacao|assunto peculato crimes|assunto concussao crimes\")\n",
        "rgx_15 = re.compile(\"falsificacao de documento|falsidade|falsificacao|dados falsos|estelionato\")\n",
        "rgx_16 = re.compile(\"ilegitimidade passiva|ilegitimidade ativa\")\n",
        "rgx_17 = re.compile(\"responsabilidade civil|responsabilidade penal\")\n",
        "rgx_18 = re.compile(\"organizacao criminosa|associacao criminosa\")\n",
        "rgx_19 = re.compile(\"reincidencia|reiteracao delitiva|reiteracao criminosa\")\n",
        "rgx_20 = re.compile(\"coacao ilegal|coacao|constrangimento ilegal\")\n",
        "rgx_21 = re.compile(\"prestacao de servicos|pratica do crime|pratica do delito|crimes praticados|conduta dolosa|pratica delitiva|conduta ilicita|pratica delituosa|crimes do sistema|condutas criminosas|assunto acao penal\")\n",
        "rgx_22 = re.compile(\"homicidio qualificado|assunto homicidio qualificado\")\n",
        "\n",
        "planilha[\"assuntos_2\"] = planilha[\"assuntos_2\"].astype(str).str.replace(rgx_1,\"improbidade administrativa\", regex = True)\n",
        "planilha[\"assuntos_2\"] = planilha[\"assuntos_2\"].astype(str).str.replace(rgx_2,\"tributario\", regex = True)\n",
        "planilha[\"assuntos_2\"] = planilha[\"assuntos_2\"].astype(str).str.replace(rgx_3,\"indenizacao ou multa\", regex = True)\n",
        "planilha[\"assuntos_2\"] = planilha[\"assuntos_2\"].astype(str).str.replace(rgx_4,\"sigilo bancario\", regex = True)\n",
        "planilha[\"assuntos_2\"] = planilha[\"assuntos_2\"].astype(str).str.replace(rgx_5,\"enriquecimento ilicito\", regex = True)\n",
        "planilha[\"assuntos_2\"] = planilha[\"assuntos_2\"].astype(str).str.replace(rgx_6,\"trafico de drogas\", regex = True)\n",
        "planilha[\"assuntos_2\"] = planilha[\"assuntos_2\"].astype(str).str.replace(rgx_7,\"lesao ao erario\", regex = True)\n",
        "planilha[\"assuntos_2\"] = planilha[\"assuntos_2\"].astype(str).str.replace(rgx_8,\"corrupcao\", regex = True)\n",
        "planilha[\"assuntos_2\"] = planilha[\"assuntos_2\"].astype(str).str.replace(rgx_9,\"cargo ou servico publico\", regex = True)\n",
        "planilha[\"assuntos_2\"] = planilha[\"assuntos_2\"].astype(str).str.replace(rgx_10,\"licitacoes\", regex = True)\n",
        "planilha[\"assuntos_2\"] = planilha[\"assuntos_2\"].astype(str).str.replace(rgx_11,\"lavagem e ocultacao patrimonial\", regex = True)\n",
        "planilha[\"assuntos_2\"] = planilha[\"assuntos_2\"].astype(str).str.replace(rgx_12,\"bens e direitos\", regex = True)\n",
        "planilha[\"assuntos_2\"] = planilha[\"assuntos_2\"].astype(str).str.replace(rgx_13,\"atos administrativos\", regex = True)\n",
        "planilha[\"assuntos_2\"] = planilha[\"assuntos_2\"].astype(str).str.replace(rgx_14,\"crimes funcao publica\", regex = True)\n",
        "planilha[\"assuntos_2\"] = planilha[\"assuntos_2\"].astype(str).str.replace(rgx_15,\"dados falsos e estelionato\", regex = True)\n",
        "planilha[\"assuntos_2\"] = planilha[\"assuntos_2\"].astype(str).str.replace(rgx_16,\"ilegitimidade ativa e passiva\", regex = True)\n",
        "planilha[\"assuntos_2\"] = planilha[\"assuntos_2\"].astype(str).str.replace(rgx_17,\"responsabilidade civil e penal\", regex = True)\n",
        "planilha[\"assuntos_2\"] = planilha[\"assuntos_2\"].astype(str).str.replace(rgx_18,\"organizacoes criminosas\", regex = True)\n",
        "planilha[\"assuntos_2\"] = planilha[\"assuntos_2\"].astype(str).str.replace(rgx_19,\"reiteracao criminosa\", regex = True)\n",
        "planilha[\"assuntos_2\"] = planilha[\"assuntos_2\"].astype(str).str.replace(rgx_20,\"coacao\", regex = True)\n",
        "planilha[\"assuntos_2\"] = planilha[\"assuntos_2\"].astype(str).str.replace(rgx_21,\"NADA\", regex = True)\n",
        "planilha[\"assuntos_2\"] = planilha[\"assuntos_2\"].astype(str).str.replace(rgx_22,\"homicidio\", regex = True)"
      ],
      "metadata": {
        "id": "6SMSOfaMU_Zm"
      },
      "execution_count": null,
      "outputs": []
    },
    {
      "cell_type": "code",
      "source": [
        "print(planilha[\"assuntos_2\"])\n",
        "\n",
        "rgx = re.compile(\"\\[|\\]|'\")\n",
        "assuntos_lp = []\n",
        "for item in planilha[\"assuntos_2\"]:\n",
        "  item = re.sub(rgx,\"\", str(item))\n",
        "  list_sub_lp = []\n",
        "  if len(item) > 0:\n",
        "    itens = item.split(\",\")\n",
        "    for it in itens:\n",
        "      if it.strip() not in list_sub_lp and it.strip() != \"NADA\":\n",
        "        list_sub_lp.append(it.strip())\n",
        "  assuntos_lp.append(list_sub_lp)\n",
        "\n",
        "\n",
        "planilha[\"assuntos_2\"] = assuntos_lp\n",
        "\n",
        "print(planilha[\"assuntos_2\"])"
      ],
      "metadata": {
        "colab": {
          "base_uri": "https://localhost:8080/"
        },
        "id": "3TuttxUaX8BP",
        "outputId": "8786df39-ff6a-4a5d-b66e-4631ec875998"
      },
      "execution_count": null,
      "outputs": [
        {
          "output_type": "stream",
          "name": "stdout",
          "text": [
            "0        ['improbidade administrativa', 'NADA', 'improb...\n",
            "1                                                       []\n",
            "2                          ['coacao', 'trafico de drogas']\n",
            "3                                                       []\n",
            "4        ['improbidade administrativa', 'indenizacao ou...\n",
            "                               ...                        \n",
            "45879                                                   []\n",
            "45880    ['licitacoes', 'improbidade administrativa', '...\n",
            "45881    ['improbidade administrativa', 'licitacoes', '...\n",
            "45882                             ['atos administrativos']\n",
            "45883                                  ['bens e direitos']\n",
            "Name: assuntos_2, Length: 45884, dtype: object\n",
            "0        [improbidade administrativa, enriquecimento il...\n",
            "1                                                       []\n",
            "2                              [coacao, trafico de drogas]\n",
            "3                                                       []\n",
            "4        [improbidade administrativa, indenizacao ou mu...\n",
            "                               ...                        \n",
            "45879                                                   []\n",
            "45880    [licitacoes, improbidade administrativa, lesao...\n",
            "45881    [improbidade administrativa, licitacoes, lesao...\n",
            "45882                               [atos administrativos]\n",
            "45883                                    [bens e direitos]\n",
            "Name: assuntos_2, Length: 45884, dtype: object\n"
          ]
        }
      ]
    },
    {
      "cell_type": "code",
      "source": [
        "df_assunt = pd.DataFrame()\n",
        "df_qtdade_assunt = pd.DataFrame()\n",
        "assunt = []\n",
        "f = 0\n",
        "qtdade = []\n",
        "for item in planilha[\"assuntos_2\"]:\n",
        "  item = re.sub(rgx,\"\", str(item))\n",
        "  if len(item) > 0 and item != \"NADA\":\n",
        "    f = f+1\n",
        "    # print(item)\n",
        "    itens = item.split(\",\")\n",
        "    # print(len(itens))\n",
        "    if len(itens) > 1:\n",
        "      qtdade.append(len(itens))\n",
        "      for it in itens:\n",
        "        if it != \"NADA\":\n",
        "          assunt.append(it.strip())\n",
        "    else:\n",
        "      qtdade.append(1)\n",
        "      assunt.append(item.strip())\n",
        "\n",
        "\n",
        "print(f)\n",
        "print(\"o percentual é:\",(f*100)/len(planilha[\"assuntos_2\"]))\n",
        "df_assunt[\"assunto\"] = assunt\n",
        "df_qtdade_assunt[\"qtdade\"] = qtdade\n",
        "\n",
        "print(df_assunt[\"assunto\"].value_counts())\n",
        "\n",
        "print(\"-\"*20)\n",
        "\n",
        "print(df_qtdade_assunt[\"qtdade\"].value_counts())\n",
        "\n",
        "\n",
        "var_assunt = df_assunt[\"assunto\"].value_counts().to_frame()\n",
        "var_assunt.to_excel(\"var_assunt.xlsx\")\n",
        "files.download('var_assunt.xlsx')"
      ],
      "metadata": {
        "colab": {
          "base_uri": "https://localhost:8080/",
          "height": 798
        },
        "id": "VZ66qnTGWJfu",
        "outputId": "fefd17f5-af29-447e-ee71-d6f657c21739"
      },
      "execution_count": null,
      "outputs": [
        {
          "output_type": "stream",
          "name": "stdout",
          "text": [
            "24163\n",
            "o percentual é: 52.66105832098335\n",
            "improbidade administrativa         13600\n",
            "tributario                          5353\n",
            "cargo ou servico publico            4730\n",
            "indenizacao ou multa                3695\n",
            "bens e direitos                     3487\n",
            "lesao ao erario                     3310\n",
            "licitacoes                          2033\n",
            "enriquecimento ilicito              1929\n",
            "sigilo bancario                     1343\n",
            "atos administrativos                1299\n",
            "repercussao geral                   1188\n",
            "corrupcao                           1039\n",
            "coacao                               938\n",
            "trafico de drogas                    896\n",
            "ilegitimidade ativa e passiva        877\n",
            "lavagem e ocultacao patrimonial      824\n",
            "dados falsos e estelionato           821\n",
            "organizacoes criminosas              646\n",
            "responsabilidade civil e penal       495\n",
            "crimes funcao publica                489\n",
            "reiteracao criminosa                 451\n",
            "homicidio                            104\n",
            "crime de roubo                        93\n",
            "divorcio                              62\n",
            "crimes de transito                    54\n",
            "ilegalidade da prisao                 39\n",
            "Name: assunto, dtype: int64\n",
            "--------------------\n",
            "1     11726\n",
            "2      6032\n",
            "3      3212\n",
            "4      1522\n",
            "5       754\n",
            "6       409\n",
            "7       239\n",
            "8       142\n",
            "9        64\n",
            "10       40\n",
            "11       10\n",
            "12       10\n",
            "13        2\n",
            "16        1\n",
            "Name: qtdade, dtype: int64\n"
          ]
        },
        {
          "output_type": "display_data",
          "data": {
            "text/plain": [
              "<IPython.core.display.Javascript object>"
            ],
            "application/javascript": [
              "\n",
              "    async function download(id, filename, size) {\n",
              "      if (!google.colab.kernel.accessAllowed) {\n",
              "        return;\n",
              "      }\n",
              "      const div = document.createElement('div');\n",
              "      const label = document.createElement('label');\n",
              "      label.textContent = `Downloading \"${filename}\": `;\n",
              "      div.appendChild(label);\n",
              "      const progress = document.createElement('progress');\n",
              "      progress.max = size;\n",
              "      div.appendChild(progress);\n",
              "      document.body.appendChild(div);\n",
              "\n",
              "      const buffers = [];\n",
              "      let downloaded = 0;\n",
              "\n",
              "      const channel = await google.colab.kernel.comms.open(id);\n",
              "      // Send a message to notify the kernel that we're ready.\n",
              "      channel.send({})\n",
              "\n",
              "      for await (const message of channel.messages) {\n",
              "        // Send a message to notify the kernel that we're ready.\n",
              "        channel.send({})\n",
              "        if (message.buffers) {\n",
              "          for (const buffer of message.buffers) {\n",
              "            buffers.push(buffer);\n",
              "            downloaded += buffer.byteLength;\n",
              "            progress.value = downloaded;\n",
              "          }\n",
              "        }\n",
              "      }\n",
              "      const blob = new Blob(buffers, {type: 'application/binary'});\n",
              "      const a = document.createElement('a');\n",
              "      a.href = window.URL.createObjectURL(blob);\n",
              "      a.download = filename;\n",
              "      div.appendChild(a);\n",
              "      a.click();\n",
              "      div.remove();\n",
              "    }\n",
              "  "
            ]
          },
          "metadata": {}
        },
        {
          "output_type": "display_data",
          "data": {
            "text/plain": [
              "<IPython.core.display.Javascript object>"
            ],
            "application/javascript": [
              "download(\"download_3c2c2668-d7a1-4088-a5de-53a96da2c602\", \"var_assunt.xlsx\", 5562)"
            ]
          },
          "metadata": {}
        }
      ]
    },
    {
      "cell_type": "markdown",
      "source": [
        "-fazer a nuvem de palavras\n",
        "\n",
        "-fazera relacao entre medidas e assuntos"
      ],
      "metadata": {
        "id": "rqq194BfdYxf"
      }
    },
    {
      "cell_type": "code",
      "source": [
        "dict_assunt = gera_dict_trm(assunt)\n",
        "nuvem_palavras(dict_assunt)"
      ],
      "metadata": {
        "colab": {
          "base_uri": "https://localhost:8080/",
          "height": 357
        },
        "id": "NCSQFpeKm2tw",
        "outputId": "88c33046-8bb1-42c5-eb07-6eb69262406c"
      },
      "execution_count": null,
      "outputs": [
        {
          "output_type": "display_data",
          "data": {
            "text/plain": [
              "<Figure size 864x432 with 1 Axes>"
            ],
            "image/png": "[encoded data removed]"
          },
          "metadata": {
            "needs_background": "light"
          }
        }
      ]
    },
    {
      "cell_type": "markdown",
      "source": [
        "insumo para analise de redes dos assuntos"
      ],
      "metadata": {
        "id": "8_bH0VJz-6vM"
      }
    },
    {
      "cell_type": "code",
      "source": [
        "df_assunt = pd.DataFrame()\n",
        "df_qtdade_assunt = pd.DataFrame()\n",
        "assunt = []\n",
        "f = 0\n",
        "qtdade = []\n",
        "for item in planilha[\"assuntos_2\"]:\n",
        "  item = re.sub(rgx,\"\", str(item))\n",
        "  if len(item) > 0 and item != \"NADA\":\n",
        "    f = f+1\n",
        "    # print(item)\n",
        "    itens = item.split(\",\")\n",
        "    # print(len(itens))\n",
        "    if len(itens) > 1:\n",
        "      qtdade.append(len(itens))\n",
        "      for it in itens:\n",
        "        if it != \"NADA\":\n",
        "          assunt.append(it.strip())\n",
        "    else:\n",
        "      qtdade.append(1)\n",
        "      assunt.append(item.strip())\n",
        "  else:\n",
        "    qtdade.append(0)\n",
        "\n",
        "planilha[\"qtdade_assuntos_2\"] = qtdade\n",
        "print(planilha[\"qtdade_assuntos_2\"])\n",
        "\n",
        "qtdade = []\n",
        "for item in planilha[\"medidas_judiciais\"]:\n",
        "  item = re.sub(rgx,\"\", str(item))\n",
        "  if len(item) > 0 and item != \"NADA\":\n",
        "    f = f+1\n",
        "    # print(item)\n",
        "    itens = item.split(\",\")\n",
        "    # print(len(itens))\n",
        "    if len(itens) > 1:\n",
        "      qtdade.append(len(itens))\n",
        "      for it in itens:\n",
        "        if it != \"NADA\":\n",
        "          assunt.append(it.strip())\n",
        "    else:\n",
        "      qtdade.append(1)\n",
        "      assunt.append(item.strip())\n",
        "  else:\n",
        "    qtdade.append(0)\n",
        "\n",
        "planilha[\"qtdade_medidas\"] = qtdade\n",
        "print(planilha[\"qtdade_medidas\"])\n"
      ],
      "metadata": {
        "colab": {
          "base_uri": "https://localhost:8080/"
        },
        "id": "xXyXdi5qwR8h",
        "outputId": "240ff2f0-fc82-4bf7-dbdf-4e7bb74b6c48"
      },
      "execution_count": null,
      "outputs": [
        {
          "output_type": "stream",
          "name": "stdout",
          "text": [
            "0        4\n",
            "1        0\n",
            "2        2\n",
            "3        0\n",
            "4        4\n",
            "        ..\n",
            "45879    0\n",
            "45880    4\n",
            "45881    3\n",
            "45882    1\n",
            "45883    1\n",
            "Name: qtdade_assuntos_2, Length: 45884, dtype: int64\n",
            "0        0\n",
            "1        0\n",
            "2        1\n",
            "3        0\n",
            "4        1\n",
            "        ..\n",
            "45879    0\n",
            "45880    0\n",
            "45881    1\n",
            "45882    1\n",
            "45883    0\n",
            "Name: qtdade_medidas, Length: 45884, dtype: int64\n"
          ]
        }
      ]
    },
    {
      "cell_type": "code",
      "source": [
        "df_filter_3 = planilha[\"qtdade_assuntos_2\"] > 1\n",
        "planilha_nos_assunt_b = planilha[df_filter_3]\n",
        "\n",
        "print(len(planilha_nos_assunt_b))\n",
        "\n",
        "lista_nos, lista_unicos,ids = gera_nos(planilha_nos_assunt_b[\"assuntos_2\"])\n",
        "\n",
        "\n",
        "# lista_nos.to_csv(\"lista_nos_assuntos.csv\", index= False, encoding= 'utf-8')\n",
        "# files.download('lista_nos_assuntos.csv')\n",
        "\n",
        "\n",
        "relacoes_inst = gera_relacoes(lista_unicos, ids, planilha_nos_assunt_b[\"assuntos_2\"])\n",
        "\n",
        "\n",
        "# relacoes_inst.to_csv(\"relacoes_assuntos.csv\", index= False)\n",
        "# files.download(\"relacoes_assuntos.csv\")"
      ],
      "metadata": {
        "colab": {
          "base_uri": "https://localhost:8080/"
        },
        "id": "cjyLhM3E_FGW",
        "outputId": "53a3ba8c-22be-47f4-ee9f-9d515b04abe6"
      },
      "execution_count": null,
      "outputs": [
        {
          "output_type": "stream",
          "name": "stdout",
          "text": [
            "12437\n",
            "                              Label  Id\n",
            "0        improbidade administrativa   0\n",
            "1            enriquecimento ilicito   1\n",
            "2          cargo ou servico publico   2\n",
            "3                   lesao ao erario   3\n",
            "4                            coacao   4\n",
            "5                 trafico de drogas   5\n",
            "6              indenizacao ou multa   6\n",
            "7   lavagem e ocultacao patrimonial   7\n",
            "8                        tributario   8\n",
            "9                        licitacoes   9\n",
            "10          organizacoes criminosas  10\n",
            "11                  bens e direitos  11\n",
            "12                  sigilo bancario  12\n",
            "13    ilegitimidade ativa e passiva  13\n",
            "14                   crime de roubo  14\n",
            "15                        corrupcao  15\n",
            "16   responsabilidade civil e penal  16\n",
            "17                repercussao geral  17\n",
            "18       dados falsos e estelionato  18\n",
            "19            crimes funcao publica  19\n",
            "20                        homicidio  20\n",
            "21             reiteracao criminosa  21\n",
            "22             atos administrativos  22\n",
            "23               crimes de transito  23\n",
            "24            ilegalidade da prisao  24\n",
            "25                         divorcio  25\n",
            "       index                                         assuntos_2\n",
            "0          0  [improbidade administrativa, enriquecimento il...\n",
            "1          2                        [coacao, trafico de drogas]\n",
            "2          4  [improbidade administrativa, indenizacao ou mu...\n",
            "3          6  [improbidade administrativa, lavagem e ocultac...\n",
            "4          9                           [tributario, licitacoes]\n",
            "...      ...                                                ...\n",
            "12432  45871  [improbidade administrativa, bens e direitos, ...\n",
            "12433  45877  [improbidade administrativa, lesao ao erario, ...\n",
            "12434  45878  [improbidade administrativa, enriquecimento il...\n",
            "12435  45880  [licitacoes, improbidade administrativa, lesao...\n",
            "12436  45881  [improbidade administrativa, licitacoes, lesao...\n",
            "\n",
            "[12437 rows x 2 columns]\n",
            "\n",
            "{'improbidade administrativa': 0, 'enriquecimento ilicito': 1, 'cargo ou servico publico': 2, 'lesao ao erario': 3, 'coacao': 4, 'trafico de drogas': 5, 'indenizacao ou multa': 6, 'lavagem e ocultacao patrimonial': 7, 'tributario': 8, 'licitacoes': 9, 'organizacoes criminosas': 10, 'bens e direitos': 11, 'sigilo bancario': 12, 'ilegitimidade ativa e passiva': 13, 'crime de roubo': 14, 'corrupcao': 15, 'responsabilidade civil e penal': 16, 'repercussao geral': 17, 'dados falsos e estelionato': 18, 'crimes funcao publica': 19, 'homicidio': 20, 'reiteracao criminosa': 21, 'atos administrativos': 22, 'crimes de transito': 23, 'ilegalidade da prisao': 24, 'divorcio': 25}\n"
          ]
        }
      ]
    },
    {
      "cell_type": "markdown",
      "source": [
        "relaçoes entre assuntos e medidas - abortado"
      ],
      "metadata": {
        "id": "hKFqErjivR5_"
      }
    },
    {
      "cell_type": "code",
      "source": [
        "# eliminado\n",
        "\n",
        "df_filter_3 = planilha[\"qtdade_assuntos_2\"] > 0\n",
        "planilha_nos_assunt_b = planilha[df_filter_3]\n",
        "\n",
        "# print(planilha_nos_org_b)\n",
        "\n",
        "df_filter_4 = planilha_nos_assunt_b[\"qtdade_medidas\"] > 0\n",
        "planilha_nos_medidas_b = planilha_nos_assunt_b[df_filter_4]\n",
        "\n",
        "# filtradas as planilhas agora preciso juntar as strings das duas variáveis\n",
        "\n",
        "planilha_nos_medidas_b[\"unif_org_inst\"] = planilha_nos_medidas_b[\"assuntos_2\"].astype(str)+\"___\"+planilha_nos_medidas_b[\"medidas_judiciais\"].astype(str)\n",
        "\n",
        "planilha_nos_medidas_b[\"unif_org_inst\"] = planilha_nos_medidas_b[\"unif_org_inst\"].astype(str).str.replace(\"\\]___\\[\", \",\").str.strip()\n",
        "\n",
        "planilha_nos_medidas_b[\"unif_org_inst\"]"
      ],
      "metadata": {
        "colab": {
          "base_uri": "https://localhost:8080/"
        },
        "id": "UvcOszGPvrlg",
        "outputId": "3025ea00-6f2c-406c-9c10-e96e81fd0043"
      },
      "execution_count": null,
      "outputs": [
        {
          "output_type": "stream",
          "name": "stderr",
          "text": [
            "/usr/local/lib/python3.7/dist-packages/ipykernel_launcher.py:11: SettingWithCopyWarning: \n",
            "A value is trying to be set on a copy of a slice from a DataFrame.\n",
            "Try using .loc[row_indexer,col_indexer] = value instead\n",
            "\n",
            "See the caveats in the documentation: https://pandas.pydata.org/pandas-docs/stable/user_guide/indexing.html#returning-a-view-versus-a-copy\n",
            "  # This is added back by InteractiveShellApp.init_path()\n",
            "/usr/local/lib/python3.7/dist-packages/ipykernel_launcher.py:13: FutureWarning: The default value of regex will change from True to False in a future version.\n",
            "  del sys.path[0]\n",
            "/usr/local/lib/python3.7/dist-packages/ipykernel_launcher.py:13: SettingWithCopyWarning: \n",
            "A value is trying to be set on a copy of a slice from a DataFrame.\n",
            "Try using .loc[row_indexer,col_indexer] = value instead\n",
            "\n",
            "See the caveats in the documentation: https://pandas.pydata.org/pandas-docs/stable/user_guide/indexing.html#returning-a-view-versus-a-copy\n",
            "  del sys.path[0]\n"
          ]
        },
        {
          "output_type": "execute_result",
          "data": {
            "text/plain": [
              "2        ['coacao', 'trafico de drogas','prisao prevent...\n",
              "4        ['improbidade administrativa', 'indenizacao ou...\n",
              "6        ['improbidade administrativa', 'lavagem e ocul...\n",
              "13       ['organizacoes criminosas', 'bens e direitos',...\n",
              "16       ['licitacoes', 'bens e direitos',' medida limi...\n",
              "                               ...                        \n",
              "45876      ['improbidade administrativa','interrogatorio']\n",
              "45877    ['improbidade administrativa', 'lesao ao erari...\n",
              "45878    ['improbidade administrativa', 'enriquecimento...\n",
              "45881    ['improbidade administrativa', 'licitacoes', '...\n",
              "45882            ['atos administrativos','interrogatorio']\n",
              "Name: unif_org_inst, Length: 7277, dtype: object"
            ]
          },
          "metadata": {},
          "execution_count": 232
        }
      ]
    },
    {
      "cell_type": "code",
      "source": [
        "# eliminado\n",
        "\n",
        "lista_nos, lista_unicos,ids = gera_nos(planilha_nos_medidas_b[\"unif_org_inst\"])\n",
        "\n",
        "\n",
        "lista_nos.to_csv(\"lista_nos_medidas_assunt.csv\", index= False, encoding= 'utf-8')\n",
        "files.download('lista_nos_medidas_assunt.csv')\n",
        "\n",
        "\n",
        "relacoes_inst = gera_relacoes(lista_unicos, ids, planilha_nos_medidas_b[\"unif_org_inst\"])\n",
        "\n",
        "\n",
        "relacoes_inst.to_csv(\"relacoes_medidas_assun.csv\", index= False)\n",
        "files.download(\"relacoes_medidas_assun.csv\")"
      ],
      "metadata": {
        "colab": {
          "base_uri": "https://localhost:8080/",
          "height": 558
        },
        "id": "xNOqYdFZvQt6",
        "outputId": "3fb85d56-c7f4-4320-8755-1477602149a3"
      },
      "execution_count": null,
      "outputs": [
        {
          "output_type": "stream",
          "name": "stdout",
          "text": [
            "                         Label  Id\n",
            "0                       coacao   0\n",
            "1            trafico de drogas   1\n",
            "2            prisao preventiva   2\n",
            "3   improbidade administrativa   3\n",
            "4         indenizacao ou multa   4\n",
            "..                         ...  ..\n",
            "66           suspensao da acao  66\n",
            "67                    divorcio  67\n",
            "68      apreensao em alienacao  68\n",
            "69          crimes de transito  69\n",
            "70           penhora avaliacao  70\n",
            "\n",
            "[71 rows x 2 columns]\n"
          ]
        },
        {
          "output_type": "display_data",
          "data": {
            "text/plain": [
              "<IPython.core.display.Javascript object>"
            ],
            "application/javascript": [
              "\n",
              "    async function download(id, filename, size) {\n",
              "      if (!google.colab.kernel.accessAllowed) {\n",
              "        return;\n",
              "      }\n",
              "      const div = document.createElement('div');\n",
              "      const label = document.createElement('label');\n",
              "      label.textContent = `Downloading \"${filename}\": `;\n",
              "      div.appendChild(label);\n",
              "      const progress = document.createElement('progress');\n",
              "      progress.max = size;\n",
              "      div.appendChild(progress);\n",
              "      document.body.appendChild(div);\n",
              "\n",
              "      const buffers = [];\n",
              "      let downloaded = 0;\n",
              "\n",
              "      const channel = await google.colab.kernel.comms.open(id);\n",
              "      // Send a message to notify the kernel that we're ready.\n",
              "      channel.send({})\n",
              "\n",
              "      for await (const message of channel.messages) {\n",
              "        // Send a message to notify the kernel that we're ready.\n",
              "        channel.send({})\n",
              "        if (message.buffers) {\n",
              "          for (const buffer of message.buffers) {\n",
              "            buffers.push(buffer);\n",
              "            downloaded += buffer.byteLength;\n",
              "            progress.value = downloaded;\n",
              "          }\n",
              "        }\n",
              "      }\n",
              "      const blob = new Blob(buffers, {type: 'application/binary'});\n",
              "      const a = document.createElement('a');\n",
              "      a.href = window.URL.createObjectURL(blob);\n",
              "      a.download = filename;\n",
              "      div.appendChild(a);\n",
              "      a.click();\n",
              "      div.remove();\n",
              "    }\n",
              "  "
            ]
          },
          "metadata": {}
        },
        {
          "output_type": "display_data",
          "data": {
            "text/plain": [
              "<IPython.core.display.Javascript object>"
            ],
            "application/javascript": [
              "download(\"download_c261c36d-2368-4182-bb1e-4fa7a1bc3e1d\", \"lista_nos_medidas_assunt.csv\", 1559)"
            ]
          },
          "metadata": {}
        },
        {
          "output_type": "stream",
          "name": "stdout",
          "text": [
            "      index                                      unif_org_inst\n",
            "0         2  ['coacao', 'trafico de drogas','prisao prevent...\n",
            "1         4  ['improbidade administrativa', 'indenizacao ou...\n",
            "2         6  ['improbidade administrativa', 'lavagem e ocul...\n",
            "3        13  ['organizacoes criminosas', 'bens e direitos',...\n",
            "4        16  ['licitacoes', 'bens e direitos',' medida limi...\n",
            "...     ...                                                ...\n",
            "7272  45876    ['improbidade administrativa','interrogatorio']\n",
            "7273  45877  ['improbidade administrativa', 'lesao ao erari...\n",
            "7274  45878  ['improbidade administrativa', 'enriquecimento...\n",
            "7275  45881  ['improbidade administrativa', 'licitacoes', '...\n",
            "7276  45882          ['atos administrativos','interrogatorio']\n",
            "\n",
            "[7277 rows x 2 columns]\n",
            "\n",
            "{'coacao': 0, 'trafico de drogas': 1, 'prisao preventiva': 2, 'improbidade administrativa': 3, 'indenizacao ou multa': 4, 'lesao ao erario': 5, 'cargo ou servico publico': 6, 'antecipacao da tutela': 7, 'lavagem e ocultacao patrimonial': 8, 'decretacao de indisponibilidade': 9, 'organizacoes criminosas': 10, 'bens e direitos': 11, 'enriquecimento ilicito': 12, 'sigilo bancario': 13, 'apreensao': 14, 'interceptacao': 15, 'interceptacao telefonica': 16, 'interrogatorio': 17, 'licitacoes': 18, 'medida liminar': 19, 'corrupcao': 20, 'extincao da punibilidade': 21, 'crime de roubo': 22, 'inquerito policial': 23, 'tributario': 24, 'bens apreendidos': 25, 'reiteracao criminosa': 26, 'liberdade provisoria': 27, 'medida cautelar': 28, 'prisao cautelar': 29, 'ilegitimidade ativa e passiva': 30, 'inquerito civil': 31, 'afastamento cautelar': 32, 'trancamento da acao': 33, 'atos administrativos': 34, 'tutela provisoria': 35, 'responsabilidade civil e penal': 36, 'antecipado da lide': 37, 'mandado de prisao': 38, 'repercussao geral': 39, 'dados falsos e estelionato': 40, 'suspensao condicional': 41, 'extincao do processo': 42, 'busca apreensao': 43, 'desbloqueio': 44, 'homicidio': 45, 'substituicao da prisao': 46, 'suspensao do processo': 47, 'prisao em flagrante': 48, 'prisao domiciliar': 49, 'relaxamento de prisao': 50, 'revogacao de prisao': 51, 'bloqueio de bens': 52, 'afastamento do cargo': 53, 'corte de contas': 54, 'decretacao da prisao': 55, 'sequestro': 56, 'prisao provisoria': 57, 'indeferimento da inicial': 58, 'crimes funcao publica': 59, 'gravacao': 60, 'restituicao de bens': 61, 'ilegalidade da prisao': 62, 'decreto de prisao': 63, 'investigacao criminal': 64, 'transacao penal': 65, 'suspensao da acao': 66, 'divorcio': 67, 'apreensao em alienacao': 68, 'crimes de transito': 69, 'penhora avaliacao': 70}\n"
          ]
        },
        {
          "output_type": "display_data",
          "data": {
            "text/plain": [
              "<IPython.core.display.Javascript object>"
            ],
            "application/javascript": [
              "\n",
              "    async function download(id, filename, size) {\n",
              "      if (!google.colab.kernel.accessAllowed) {\n",
              "        return;\n",
              "      }\n",
              "      const div = document.createElement('div');\n",
              "      const label = document.createElement('label');\n",
              "      label.textContent = `Downloading \"${filename}\": `;\n",
              "      div.appendChild(label);\n",
              "      const progress = document.createElement('progress');\n",
              "      progress.max = size;\n",
              "      div.appendChild(progress);\n",
              "      document.body.appendChild(div);\n",
              "\n",
              "      const buffers = [];\n",
              "      let downloaded = 0;\n",
              "\n",
              "      const channel = await google.colab.kernel.comms.open(id);\n",
              "      // Send a message to notify the kernel that we're ready.\n",
              "      channel.send({})\n",
              "\n",
              "      for await (const message of channel.messages) {\n",
              "        // Send a message to notify the kernel that we're ready.\n",
              "        channel.send({})\n",
              "        if (message.buffers) {\n",
              "          for (const buffer of message.buffers) {\n",
              "            buffers.push(buffer);\n",
              "            downloaded += buffer.byteLength;\n",
              "            progress.value = downloaded;\n",
              "          }\n",
              "        }\n",
              "      }\n",
              "      const blob = new Blob(buffers, {type: 'application/binary'});\n",
              "      const a = document.createElement('a');\n",
              "      a.href = window.URL.createObjectURL(blob);\n",
              "      a.download = filename;\n",
              "      div.appendChild(a);\n",
              "      a.click();\n",
              "      div.remove();\n",
              "    }\n",
              "  "
            ]
          },
          "metadata": {}
        },
        {
          "output_type": "display_data",
          "data": {
            "text/plain": [
              "<IPython.core.display.Javascript object>"
            ],
            "application/javascript": [
              "download(\"download_d9d5b7d8-3d5f-4100-96a5-b60629dc1cff\", \"relacoes_medidas_assun.csv\", 1459178)"
            ]
          },
          "metadata": {}
        }
      ]
    }
  ]
}